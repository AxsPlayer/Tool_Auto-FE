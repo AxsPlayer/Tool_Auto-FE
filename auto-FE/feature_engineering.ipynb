{
 "cells": [
  {
   "cell_type": "code",
   "execution_count": 140,
   "metadata": {
    "ExecuteTime": {
     "end_time": "2018-08-07T20:30:03.984692Z",
     "start_time": "2018-08-07T20:30:03.852073Z"
    },
    "collapsed": true
   },
   "outputs": [],
   "source": [
    "# Import necessary libraries.\n",
    "import pandas as pd\n",
    "import matplotlib.pyplot as plt\n",
    "from scipy.stats import kstest\n",
    "import numpy as np\n",
    "\n",
    "%matplotlib inline"
   ]
  },
  {
   "cell_type": "code",
   "execution_count": 98,
   "metadata": {
    "ExecuteTime": {
     "end_time": "2018-08-07T18:08:42.056476Z",
     "start_time": "2018-08-07T18:08:42.027632Z"
    },
    "collapsed": false
   },
   "outputs": [],
   "source": [
    "# Read in data for test.\n",
    "data = pd.read_csv('data/Pokemon.csv', index_col=0)"
   ]
  },
  {
   "cell_type": "code",
   "execution_count": 99,
   "metadata": {
    "ExecuteTime": {
     "end_time": "2018-08-07T18:08:42.566219Z",
     "start_time": "2018-08-07T18:08:42.520321Z"
    },
    "collapsed": false
   },
   "outputs": [
    {
     "data": {
      "text/html": [
       "<div>\n",
       "<table border=\"1\" class=\"dataframe\">\n",
       "  <thead>\n",
       "    <tr style=\"text-align: right;\">\n",
       "      <th></th>\n",
       "      <th>Name</th>\n",
       "      <th>Type 1</th>\n",
       "      <th>Type 2</th>\n",
       "      <th>Total</th>\n",
       "      <th>HP</th>\n",
       "      <th>Attack</th>\n",
       "      <th>Defense</th>\n",
       "      <th>Sp. Atk</th>\n",
       "      <th>Sp. Def</th>\n",
       "      <th>Speed</th>\n",
       "      <th>Generation</th>\n",
       "      <th>Legendary</th>\n",
       "    </tr>\n",
       "    <tr>\n",
       "      <th>#</th>\n",
       "      <th></th>\n",
       "      <th></th>\n",
       "      <th></th>\n",
       "      <th></th>\n",
       "      <th></th>\n",
       "      <th></th>\n",
       "      <th></th>\n",
       "      <th></th>\n",
       "      <th></th>\n",
       "      <th></th>\n",
       "      <th></th>\n",
       "      <th></th>\n",
       "    </tr>\n",
       "  </thead>\n",
       "  <tbody>\n",
       "    <tr>\n",
       "      <th>1</th>\n",
       "      <td>Bulbasaur</td>\n",
       "      <td>Grass</td>\n",
       "      <td>Poison</td>\n",
       "      <td>318</td>\n",
       "      <td>45</td>\n",
       "      <td>49</td>\n",
       "      <td>49</td>\n",
       "      <td>65</td>\n",
       "      <td>65</td>\n",
       "      <td>45</td>\n",
       "      <td>1</td>\n",
       "      <td>False</td>\n",
       "    </tr>\n",
       "    <tr>\n",
       "      <th>2</th>\n",
       "      <td>Ivysaur</td>\n",
       "      <td>Grass</td>\n",
       "      <td>Poison</td>\n",
       "      <td>405</td>\n",
       "      <td>60</td>\n",
       "      <td>62</td>\n",
       "      <td>63</td>\n",
       "      <td>80</td>\n",
       "      <td>80</td>\n",
       "      <td>60</td>\n",
       "      <td>1</td>\n",
       "      <td>False</td>\n",
       "    </tr>\n",
       "    <tr>\n",
       "      <th>3</th>\n",
       "      <td>Venusaur</td>\n",
       "      <td>Grass</td>\n",
       "      <td>Poison</td>\n",
       "      <td>525</td>\n",
       "      <td>80</td>\n",
       "      <td>82</td>\n",
       "      <td>83</td>\n",
       "      <td>100</td>\n",
       "      <td>100</td>\n",
       "      <td>80</td>\n",
       "      <td>1</td>\n",
       "      <td>False</td>\n",
       "    </tr>\n",
       "  </tbody>\n",
       "</table>\n",
       "</div>"
      ],
      "text/plain": [
       "        Name Type 1  Type 2  Total  HP  Attack  Defense  Sp. Atk  Sp. Def  \\\n",
       "#                                                                           \n",
       "1  Bulbasaur  Grass  Poison    318  45      49       49       65       65   \n",
       "2    Ivysaur  Grass  Poison    405  60      62       63       80       80   \n",
       "3   Venusaur  Grass  Poison    525  80      82       83      100      100   \n",
       "\n",
       "   Speed  Generation Legendary  \n",
       "#                               \n",
       "1     45           1     False  \n",
       "2     60           1     False  \n",
       "3     80           1     False  "
      ]
     },
     "execution_count": 99,
     "metadata": {},
     "output_type": "execute_result"
    }
   ],
   "source": [
    "# Explore data.\n",
    "data[0:3]"
   ]
  },
  {
   "cell_type": "code",
   "execution_count": 103,
   "metadata": {
    "ExecuteTime": {
     "end_time": "2018-08-07T18:10:32.787854Z",
     "start_time": "2018-08-07T18:10:32.766573Z"
    },
    "collapsed": false
   },
   "outputs": [],
   "source": [
    "# Detect the category data columns, as well as numerical columns in dataframe.\n",
    "id_columns = ['Name']\n",
    "cate_columns = []\n",
    "num_columns = []\n",
    "for key in data.dtypes.keys():\n",
    "    if key in id_columns:\n",
    "        continue\n",
    "    if data.dtypes[key] not in ['float', 'int']:\n",
    "        cate_columns.append(key)\n",
    "        data[key] = data[key].astype('object')\n",
    "    else:\n",
    "        num_columns.append(key)"
   ]
  },
  {
   "cell_type": "markdown",
   "metadata": {},
   "source": [
    "### Numerical Data Column."
   ]
  },
  {
   "cell_type": "code",
   "execution_count": 137,
   "metadata": {
    "ExecuteTime": {
     "end_time": "2018-08-07T20:26:33.356994Z",
     "start_time": "2018-08-07T20:26:33.213060Z"
    },
    "collapsed": true
   },
   "outputs": [],
   "source": [
    "# Normalization to [0, 1], using Max-min method.\n",
    "parameter_dic = {}\n",
    "for column in num_columns:\n",
    "    max_num = max(data[column])\n",
    "    min_num = min(data[column])\n",
    "    parameter_dic[column] = [max_num, min_num]\n",
    "    # Convert number into suitable format.\n",
    "    data[column] = (data[column]-min_num)/float(max_num-min_num)"
   ]
  },
  {
   "cell_type": "code",
   "execution_count": 141,
   "metadata": {
    "ExecuteTime": {
     "end_time": "2018-08-07T20:31:32.979043Z",
     "start_time": "2018-08-07T20:31:32.930897Z"
    },
    "collapsed": false
   },
   "outputs": [],
   "source": [
    "# Convert numerical columns whose distributions are not normal to normal distribution.\n",
    "# Check whether the distribution is normal or not.\n",
    "for column in num_columns:\n",
    "    p_value = kstest(data[column], 'norm')[1]\n",
    "    # When p-value is under 0.05, it means the distribution is different to normal distribution.\n",
    "    if p_value < 0.05:\n",
    "        # Calculate skewness of distribution.\n",
    "        skewness = data[column].skew(axis=0)\n",
    "        # If positive skewed data, use log transformation.\n",
    "        if skewness > 0:\n",
    "            data[column] = np.log((0.001 + data[column]))\n",
    "        # If negative skewed data, use square transformation.\n",
    "        else:\n",
    "            data[column] = np.square(data[column])"
   ]
  },
  {
   "cell_type": "code",
   "execution_count": 142,
   "metadata": {
    "ExecuteTime": {
     "end_time": "2018-08-07T20:31:35.801175Z",
     "start_time": "2018-08-07T20:31:35.251586Z"
    },
    "collapsed": false
   },
   "outputs": [
    {
     "data": {
      "text/plain": [
       "<matplotlib.text.Text at 0x1150c5f10>"
      ]
     },
     "execution_count": 142,
     "metadata": {},
     "output_type": "execute_result"
    },
    {
     "data": {
      "image/png": "[encoded data removed]",
      "text/plain": [
       "<matplotlib.figure.Figure at 0x114fee210>"
      ]
     },
     "metadata": {},
     "output_type": "display_data"
    }
   ],
   "source": [
    "# Plot distribution.\n",
    "fig, ax = plt.subplots()\n",
    "data['Attack'].hist(color='#A9C5D3', bins=60)\n",
    "ax.set_title('Attack Histogram', fontsize=12)\n",
    "ax.set_xlabel('Attack', fontsize=12)\n",
    "ax.set_ylabel('Frequency', fontsize=12)"
   ]
  },
  {
   "cell_type": "code",
   "execution_count": null,
   "metadata": {
    "ExecuteTime": {
     "end_time": "2018-08-07T20:27:16.087219Z",
     "start_time": "2018-08-07T20:27:16.066315Z"
    },
    "collapsed": false
   },
   "outputs": [],
   "source": []
  },
  {
   "cell_type": "code",
   "execution_count": 143,
   "metadata": {
    "ExecuteTime": {
     "end_time": "2018-08-07T20:32:26.586025Z",
     "start_time": "2018-08-07T20:32:26.558416Z"
    },
    "collapsed": false
   },
   "outputs": [
    {
     "data": {
      "text/plain": [
       "Total        -2.122280\n",
       "HP           -3.199026\n",
       "Attack       -3.235964\n",
       "Defense      -3.102321\n",
       "Sp. Atk      -2.636843\n",
       "Sp. Def      -2.886234\n",
       "Speed        -2.682630\n",
       "Generation   -1.328981\n",
       "dtype: float64"
      ]
     },
     "execution_count": 143,
     "metadata": {},
     "output_type": "execute_result"
    }
   ],
   "source": [
    "data.skew(axis=0)"
   ]
  },
  {
   "cell_type": "markdown",
   "metadata": {},
   "source": [
    "### Category data columns."
   ]
  },
  {
   "cell_type": "code",
   "execution_count": 84,
   "metadata": {
    "ExecuteTime": {
     "end_time": "2018-08-07T17:16:15.487636Z",
     "start_time": "2018-08-07T17:16:15.474808Z"
    },
    "collapsed": false
   },
   "outputs": [],
   "source": [
    "# Fill None with 'Unknown' for category columns and fill None with -1 for numerical columns.\n",
    "data[cate_columns] = data[cate_columns].fillna('Unknown')\n",
    "data[num_columns] = data[num_columns].fillna('-1')"
   ]
  },
  {
   "cell_type": "code",
   "execution_count": 48,
   "metadata": {
    "ExecuteTime": {
     "end_time": "2018-08-07T16:34:39.719334Z",
     "start_time": "2018-08-07T16:34:39.704216Z"
    },
    "collapsed": false
   },
   "outputs": [
    {
     "data": {
      "text/plain": [
       "Unknown     386\n",
       "Flying       97\n",
       "Ground       35\n",
       "Poison       34\n",
       "Psychic      33\n",
       "Fighting     26\n",
       "Grass        25\n",
       "Fairy        23\n",
       "Steel        22\n",
       "Dark         20\n",
       "Dragon       18\n",
       "Rock         14\n",
       "Water        14\n",
       "Ghost        14\n",
       "Ice          14\n",
       "Fire         12\n",
       "Electric      6\n",
       "Normal        4\n",
       "Bug           3\n",
       "Name: Type 2, dtype: int64"
      ]
     },
     "execution_count": 48,
     "metadata": {},
     "output_type": "execute_result"
    }
   ],
   "source": [
    "# Describe the category distribution of columns.\n",
    "data['Type 2'].value_counts()"
   ]
  },
  {
   "cell_type": "code",
   "execution_count": 85,
   "metadata": {
    "ExecuteTime": {
     "end_time": "2018-08-07T17:16:18.154299Z",
     "start_time": "2018-08-07T17:16:18.074190Z"
    },
    "collapsed": false
   },
   "outputs": [],
   "source": [
    "# Combine categories whose ratio are under 0.01 into one 'Others' category.\n",
    "for column in cate_columns:\n",
    "    total_num = float(sum(data[column].value_counts()))\n",
    "    discard_column = []\n",
    "    for key in data[column].value_counts().keys():\n",
    "        if data[column].value_counts()[key]/total_num < 0.01:\n",
    "            discard_column.append(key)\n",
    "    data[column] = data[column].replace(discard_column, 'Others')"
   ]
  },
  {
   "cell_type": "code",
   "execution_count": 90,
   "metadata": {
    "ExecuteTime": {
     "end_time": "2018-08-07T17:36:24.685376Z",
     "start_time": "2018-08-07T17:36:24.651540Z"
    },
    "collapsed": false
   },
   "outputs": [],
   "source": [
    "# Encode category columns with One-hot Encoding method.\n",
    "data = pd.get_dummies(data, columns=cate_columns)"
   ]
  },
  {
   "cell_type": "code",
   "execution_count": null,
   "metadata": {
    "collapsed": true
   },
   "outputs": [],
   "source": []
  }
 ],
 "metadata": {
  "kernelspec": {
   "display_name": "Python 2",
   "language": "python",
   "name": "python2"
  },
  "language_info": {
   "codemirror_mode": {
    "name": "ipython",
    "version": 2
   },
   "file_extension": ".py",
   "mimetype": "text/x-python",
   "name": "python",
   "nbconvert_exporter": "python",
   "pygments_lexer": "ipython2",
   "version": "2.7.10"
  }
 },
 "nbformat": 4,
 "nbformat_minor": 2
}
