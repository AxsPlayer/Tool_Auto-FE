{
 "cells": [
  {
   "cell_type": "code",
   "execution_count": 441,
   "metadata": {
    "ExecuteTime": {
     "end_time": "2018-08-08T16:29:11.817100Z",
     "start_time": "2018-08-08T16:29:11.745756Z"
    },
    "collapsed": true
   },
   "outputs": [],
   "source": [
    "# Import necessary libraries.\n",
    "import pandas as pd\n",
    "import matplotlib.pyplot as plt\n",
    "from scipy.stats import kstest\n",
    "import numpy as np\n",
    "import scipy.stats as spstats\n",
    "from scipy.stats import shapiro\n",
    "from sklearn.preprocessing import *\n",
    "import warnings\n",
    "from sklearn import linear_model\n",
    "\n",
    "%matplotlib inline\n",
    "warnings.filterwarnings('ignore')"
   ]
  },
  {
   "cell_type": "code",
   "execution_count": 423,
   "metadata": {
    "ExecuteTime": {
     "end_time": "2018-08-08T16:28:10.589143Z",
     "start_time": "2018-08-08T16:28:10.564943Z"
    },
    "collapsed": false
   },
   "outputs": [],
   "source": [
    "# Read in data for test.\n",
    "data = pd.read_csv('data/Pokemon.csv')\n",
    "data = data.drop(labels='#', axis=1)"
   ]
  },
  {
   "cell_type": "code",
   "execution_count": 369,
   "metadata": {
    "ExecuteTime": {
     "end_time": "2018-08-08T16:10:47.348751Z",
     "start_time": "2018-08-08T16:10:47.316349Z"
    },
    "collapsed": false
   },
   "outputs": [
    {
     "data": {
      "text/html": [
       "<div>\n",
       "<table border=\"1\" class=\"dataframe\">\n",
       "  <thead>\n",
       "    <tr style=\"text-align: right;\">\n",
       "      <th></th>\n",
       "      <th>Name</th>\n",
       "      <th>Type 1</th>\n",
       "      <th>Type 2</th>\n",
       "      <th>Total</th>\n",
       "      <th>HP</th>\n",
       "      <th>Attack</th>\n",
       "      <th>Defense</th>\n",
       "      <th>Sp. Atk</th>\n",
       "      <th>Sp. Def</th>\n",
       "      <th>Speed</th>\n",
       "      <th>Generation</th>\n",
       "      <th>Legendary</th>\n",
       "    </tr>\n",
       "  </thead>\n",
       "  <tbody>\n",
       "    <tr>\n",
       "      <th>0</th>\n",
       "      <td>Bulbasaur</td>\n",
       "      <td>Grass</td>\n",
       "      <td>Poison</td>\n",
       "      <td>318</td>\n",
       "      <td>45</td>\n",
       "      <td>49</td>\n",
       "      <td>49</td>\n",
       "      <td>65</td>\n",
       "      <td>65</td>\n",
       "      <td>45</td>\n",
       "      <td>1</td>\n",
       "      <td>False</td>\n",
       "    </tr>\n",
       "    <tr>\n",
       "      <th>1</th>\n",
       "      <td>Ivysaur</td>\n",
       "      <td>Grass</td>\n",
       "      <td>Poison</td>\n",
       "      <td>405</td>\n",
       "      <td>60</td>\n",
       "      <td>62</td>\n",
       "      <td>63</td>\n",
       "      <td>80</td>\n",
       "      <td>80</td>\n",
       "      <td>60</td>\n",
       "      <td>1</td>\n",
       "      <td>False</td>\n",
       "    </tr>\n",
       "    <tr>\n",
       "      <th>2</th>\n",
       "      <td>Venusaur</td>\n",
       "      <td>Grass</td>\n",
       "      <td>Poison</td>\n",
       "      <td>525</td>\n",
       "      <td>80</td>\n",
       "      <td>82</td>\n",
       "      <td>83</td>\n",
       "      <td>100</td>\n",
       "      <td>100</td>\n",
       "      <td>80</td>\n",
       "      <td>1</td>\n",
       "      <td>False</td>\n",
       "    </tr>\n",
       "  </tbody>\n",
       "</table>\n",
       "</div>"
      ],
      "text/plain": [
       "        Name Type 1  Type 2  Total  HP  Attack  Defense  Sp. Atk  Sp. Def  \\\n",
       "0  Bulbasaur  Grass  Poison    318  45      49       49       65       65   \n",
       "1    Ivysaur  Grass  Poison    405  60      62       63       80       80   \n",
       "2   Venusaur  Grass  Poison    525  80      82       83      100      100   \n",
       "\n",
       "   Speed  Generation Legendary  \n",
       "0     45           1     False  \n",
       "1     60           1     False  \n",
       "2     80           1     False  "
      ]
     },
     "execution_count": 369,
     "metadata": {},
     "output_type": "execute_result"
    }
   ],
   "source": [
    "# Explore data.\n",
    "data[0:3]"
   ]
  },
  {
   "cell_type": "code",
   "execution_count": 424,
   "metadata": {
    "ExecuteTime": {
     "end_time": "2018-08-08T16:28:12.685870Z",
     "start_time": "2018-08-08T16:28:12.655471Z"
    },
    "collapsed": false
   },
   "outputs": [],
   "source": [
    "# Detect the category data columns, as well as numerical columns in dataframe.\n",
    "id_columns = ['Name']\n",
    "target_column = ['Legendary']\n",
    "cate_columns = []\n",
    "num_columns = []\n",
    "for key in data.dtypes.keys():\n",
    "    if key in id_columns or key in target_column:\n",
    "        continue\n",
    "    if data.dtypes[key] not in ['float', 'int']:\n",
    "        cate_columns.append(key)\n",
    "        data[key] = data[key].astype('object')\n",
    "    else:\n",
    "        num_columns.append(key)"
   ]
  },
  {
   "cell_type": "markdown",
   "metadata": {},
   "source": [
    "### Numerical Data Column."
   ]
  },
  {
   "cell_type": "code",
   "execution_count": 425,
   "metadata": {
    "ExecuteTime": {
     "end_time": "2018-08-08T16:28:14.917279Z",
     "start_time": "2018-08-08T16:28:14.898683Z"
    },
    "collapsed": false
   },
   "outputs": [],
   "source": [
    "# Fill None with 'mean' for numerical columns.\n",
    "imputer = Imputer()\n",
    "imputer.fit(data[num_columns])\n",
    "data[num_columns] = imputer.transform(data[num_columns])"
   ]
  },
  {
   "cell_type": "code",
   "execution_count": 426,
   "metadata": {
    "ExecuteTime": {
     "end_time": "2018-08-08T16:28:15.989661Z",
     "start_time": "2018-08-08T16:28:15.949837Z"
    },
    "collapsed": true
   },
   "outputs": [],
   "source": [
    "# Convert values in numerical columns to positive values, if there are some negative values.\n",
    "for column in num_columns:\n",
    "    if sum(data[column] <= 0) != 0:\n",
    "        if min(data[column]) == 0:\n",
    "            data[column] = data[column] + max(data[column]) * 0.01\n",
    "        else:\n",
    "            data[column] = data[column] - min(data[column]) * 1.01"
   ]
  },
  {
   "cell_type": "code",
   "execution_count": 427,
   "metadata": {
    "ExecuteTime": {
     "end_time": "2018-08-08T16:28:17.338658Z",
     "start_time": "2018-08-08T16:28:17.264828Z"
    },
    "collapsed": false
   },
   "outputs": [
    {
     "name": "stdout",
     "output_type": "stream",
     "text": [
      "('Total', ': Statistics=0.979, p=0.000') Sample does not look Gaussian (reject H0) ('Optimal lambda value:', 0.6711935643597299)\n",
      "('HP', ': Statistics=0.979, p=0.000') Sample does not look Gaussian (reject H0) ('Optimal lambda value:', 0.3991896656578383)\n",
      "('Attack', ': Statistics=0.979, p=0.000') Sample does not look Gaussian (reject H0) ('Optimal lambda value:', 0.5613020994213337)\n",
      "('Defense', ': Statistics=0.997, p=0.142') Sample looks Gaussian (fail to reject H0)\n",
      "('Sp. Atk', ': Statistics=0.997, p=0.142') Sample looks Gaussian (fail to reject H0)\n",
      "('Sp. Def', ': Statistics=0.997, p=0.142') Sample looks Gaussian (fail to reject H0)\n",
      "('Speed', ': Statistics=0.997, p=0.142') Sample looks Gaussian (fail to reject H0)\n",
      "('Generation', ': Statistics=0.997, p=0.142') Sample looks Gaussian (fail to reject H0)\n"
     ]
    }
   ],
   "source": [
    "# Convert numerical columns whose distributions are not normal to normal distribution.\n",
    "# Check whether the distribution is normal or not.\n",
    "for column in num_columns:\n",
    "    # normality test\n",
    "    stat, p = shapiro(data['Attack'])\n",
    "    print(column, ': Statistics=%.3f, p=%.3f' % (stat, p)),\n",
    "    # interpret\n",
    "    alpha = 0.05\n",
    "    # When p-value is under 0.05, it means the distribution is different to normal distribution.\n",
    "    if p < alpha:\n",
    "        print('Sample does not look Gaussian (reject H0)'),\n",
    "        # Calculate skewness of distribution.\n",
    "        skewness = data[column].skew(axis=0)\n",
    "        # get optimal lambda value from non null income values\n",
    "        middle = np.array(data[column])\n",
    "        middle_clean = middle[~np.isnan(middle)]\n",
    "        l, opt_lambda = spstats.boxcox(middle_clean)\n",
    "        print('Optimal lambda value:', opt_lambda)\n",
    "        data[column] = spstats.boxcox(data[column], lmbda=opt_lambda)\n",
    "    else:\n",
    "        print('Sample looks Gaussian (fail to reject H0)')"
   ]
  },
  {
   "cell_type": "code",
   "execution_count": 428,
   "metadata": {
    "ExecuteTime": {
     "end_time": "2018-08-08T16:28:19.029516Z",
     "start_time": "2018-08-08T16:28:18.506998Z"
    },
    "collapsed": false
   },
   "outputs": [
    {
     "data": {
      "text/plain": [
       "<matplotlib.text.Text at 0x11b1c1450>"
      ]
     },
     "execution_count": 428,
     "metadata": {},
     "output_type": "execute_result"
    },
    {
     "data": {
      "image/png": "[encoded data removed]",
      "text/plain": [
       "<matplotlib.figure.Figure at 0x119a27bd0>"
      ]
     },
     "metadata": {},
     "output_type": "display_data"
    }
   ],
   "source": [
    "# Plot distribution.\n",
    "fig, ax = plt.subplots()\n",
    "data['Attack'].hist(color='#A9C5D3', bins=60)\n",
    "ax.set_title('Attack Histogram', fontsize=12)\n",
    "ax.set_xlabel('Attack', fontsize=12)\n",
    "ax.set_ylabel('Frequency', fontsize=12)"
   ]
  },
  {
   "cell_type": "code",
   "execution_count": 429,
   "metadata": {
    "ExecuteTime": {
     "end_time": "2018-08-08T16:28:21.157275Z",
     "start_time": "2018-08-08T16:28:21.143625Z"
    },
    "collapsed": false
   },
   "outputs": [],
   "source": [
    "# Standarzation.\n",
    "scaler = StandardScaler()\n",
    "scaler.fit(data[num_columns])\n",
    "data[num_columns] = scaler.transform(data[num_columns])"
   ]
  },
  {
   "cell_type": "code",
   "execution_count": 430,
   "metadata": {
    "ExecuteTime": {
     "end_time": "2018-08-08T16:28:22.667224Z",
     "start_time": "2018-08-08T16:28:22.657152Z"
    },
    "collapsed": false
   },
   "outputs": [],
   "source": [
    "# Round the number into .3float, to lower running time.\n",
    "data = data.round(3)"
   ]
  },
  {
   "cell_type": "code",
   "execution_count": 147,
   "metadata": {
    "ExecuteTime": {
     "end_time": "2018-08-08T10:33:07.310433Z",
     "start_time": "2018-08-08T10:33:07.280270Z"
    },
    "collapsed": true
   },
   "outputs": [],
   "source": [
    "# ？？\n",
    "# Normalization to [0, 1], using Max-min method.\n",
    "parameter_dic = {}\n",
    "for column in num_columns:\n",
    "    max_num = max(data[column])\n",
    "    min_num = min(data[column])\n",
    "    parameter_dic[column] = [max_num, min_num]\n",
    "    # Convert number into suitable format.\n",
    "    data[column] = (data[column]-min_num)/float(max_num-min_num)"
   ]
  },
  {
   "cell_type": "markdown",
   "metadata": {},
   "source": [
    "### Category data columns."
   ]
  },
  {
   "cell_type": "code",
   "execution_count": 431,
   "metadata": {
    "ExecuteTime": {
     "end_time": "2018-08-08T16:28:24.682424Z",
     "start_time": "2018-08-08T16:28:24.671181Z"
    },
    "collapsed": false
   },
   "outputs": [],
   "source": [
    "# Fill None with 'missing' for category columns.\n",
    "data[cate_columns] = data[cate_columns].fillna('missing')"
   ]
  },
  {
   "cell_type": "code",
   "execution_count": 385,
   "metadata": {
    "ExecuteTime": {
     "end_time": "2018-08-08T16:15:03.492559Z",
     "start_time": "2018-08-08T16:15:03.482478Z"
    },
    "collapsed": false
   },
   "outputs": [
    {
     "data": {
      "text/plain": [
       "missing     386\n",
       "Flying       97\n",
       "Ground       35\n",
       "Poison       34\n",
       "Psychic      33\n",
       "Fighting     26\n",
       "Grass        25\n",
       "Fairy        23\n",
       "Steel        22\n",
       "Dark         20\n",
       "Dragon       18\n",
       "Rock         14\n",
       "Ghost        14\n",
       "Ice          14\n",
       "Water        14\n",
       "Fire         12\n",
       "Electric      6\n",
       "Normal        4\n",
       "Bug           3\n",
       "Name: Type 2, dtype: int64"
      ]
     },
     "execution_count": 385,
     "metadata": {},
     "output_type": "execute_result"
    }
   ],
   "source": [
    "# Describe the category distribution of columns.\n",
    "data['Type 2'].value_counts()"
   ]
  },
  {
   "cell_type": "code",
   "execution_count": 432,
   "metadata": {
    "ExecuteTime": {
     "end_time": "2018-08-08T16:28:27.360066Z",
     "start_time": "2018-08-08T16:28:27.291992Z"
    },
    "collapsed": false
   },
   "outputs": [],
   "source": [
    "# Combine categories whose ratio are under 0.01 into one 'Others' category.\n",
    "for column in cate_columns:\n",
    "    total_num = float(sum(data[column].value_counts()))\n",
    "    discard_column = []\n",
    "    for key in data[column].value_counts().keys():\n",
    "        if data[column].value_counts()[key]/total_num < 0.01:\n",
    "            discard_column.append(key)\n",
    "    data[column] = data[column].replace(discard_column, 'Others')"
   ]
  },
  {
   "cell_type": "code",
   "execution_count": 433,
   "metadata": {
    "ExecuteTime": {
     "end_time": "2018-08-08T16:28:28.443526Z",
     "start_time": "2018-08-08T16:28:28.385967Z"
    },
    "collapsed": false
   },
   "outputs": [],
   "source": [
    "# Encode category columns with One-hot Encoding method.\n",
    "# data = pd.get_dummies(data, columns=cate_columns)\n",
    "para_dic = {}\n",
    "result = pd.concat([data[id_columns], data[target_column], data[num_columns]], axis=1)\n",
    "for column in cate_columns:\n",
    "    gen_le = LabelEncoder()\n",
    "    gen_le.fit(data[column])\n",
    "    data[column] = gen_le.transform(data[column])\n",
    "\n",
    "    gen_ohe = OneHotEncoder()\n",
    "    gen_ohe.fit(data[[column]])\n",
    "    gen_feature_arr = gen_ohe.transform(data[[column]]).toarray()\n",
    "    gen_feature_labels = list(gen_le.classes_)\n",
    "    gen_feature_labels = [column + '_' + str(cls_label) \n",
    "                          for cls_label in gen_le.classes_]\n",
    "    gen_features = pd.DataFrame(gen_feature_arr, \n",
    "                                columns=gen_feature_labels)\n",
    "    result = pd.concat([result, gen_features], axis=1)\n",
    "    \n",
    "    para_dic[column] = [gen_le, gen_ohe]"
   ]
  },
  {
   "cell_type": "code",
   "execution_count": 434,
   "metadata": {
    "ExecuteTime": {
     "end_time": "2018-08-08T16:28:31.361299Z",
     "start_time": "2018-08-08T16:28:31.297847Z"
    },
    "collapsed": false
   },
   "outputs": [
    {
     "data": {
      "text/html": [
       "<div>\n",
       "<table border=\"1\" class=\"dataframe\">\n",
       "  <thead>\n",
       "    <tr style=\"text-align: right;\">\n",
       "      <th></th>\n",
       "      <th>Name</th>\n",
       "      <th>Legendary</th>\n",
       "      <th>Total</th>\n",
       "      <th>HP</th>\n",
       "      <th>Attack</th>\n",
       "      <th>Defense</th>\n",
       "      <th>Sp. Atk</th>\n",
       "      <th>Sp. Def</th>\n",
       "      <th>Speed</th>\n",
       "      <th>Generation</th>\n",
       "      <th>...</th>\n",
       "      <th>Type 2_Grass</th>\n",
       "      <th>Type 2_Ground</th>\n",
       "      <th>Type 2_Ice</th>\n",
       "      <th>Type 2_Others</th>\n",
       "      <th>Type 2_Poison</th>\n",
       "      <th>Type 2_Psychic</th>\n",
       "      <th>Type 2_Rock</th>\n",
       "      <th>Type 2_Steel</th>\n",
       "      <th>Type 2_Water</th>\n",
       "      <th>Type 2_missing</th>\n",
       "    </tr>\n",
       "  </thead>\n",
       "  <tbody>\n",
       "    <tr>\n",
       "      <th>0</th>\n",
       "      <td>Bulbasaur</td>\n",
       "      <td>False</td>\n",
       "      <td>-0.971</td>\n",
       "      <td>-1.001</td>\n",
       "      <td>-0.915</td>\n",
       "      <td>-0.797</td>\n",
       "      <td>-0.239</td>\n",
       "      <td>-0.248</td>\n",
       "      <td>-0.802</td>\n",
       "      <td>-1.4</td>\n",
       "      <td>...</td>\n",
       "      <td>0.0</td>\n",
       "      <td>0.0</td>\n",
       "      <td>0.0</td>\n",
       "      <td>0.0</td>\n",
       "      <td>1.0</td>\n",
       "      <td>0.0</td>\n",
       "      <td>0.0</td>\n",
       "      <td>0.0</td>\n",
       "      <td>0.0</td>\n",
       "      <td>0.0</td>\n",
       "    </tr>\n",
       "    <tr>\n",
       "      <th>1</th>\n",
       "      <td>Ivysaur</td>\n",
       "      <td>False</td>\n",
       "      <td>-0.206</td>\n",
       "      <td>-0.283</td>\n",
       "      <td>-0.452</td>\n",
       "      <td>-0.348</td>\n",
       "      <td>0.220</td>\n",
       "      <td>0.291</td>\n",
       "      <td>-0.285</td>\n",
       "      <td>-1.4</td>\n",
       "      <td>...</td>\n",
       "      <td>0.0</td>\n",
       "      <td>0.0</td>\n",
       "      <td>0.0</td>\n",
       "      <td>0.0</td>\n",
       "      <td>1.0</td>\n",
       "      <td>0.0</td>\n",
       "      <td>0.0</td>\n",
       "      <td>0.0</td>\n",
       "      <td>0.0</td>\n",
       "      <td>0.0</td>\n",
       "    </tr>\n",
       "    <tr>\n",
       "      <th>2</th>\n",
       "      <td>Venusaur</td>\n",
       "      <td>False</td>\n",
       "      <td>0.767</td>\n",
       "      <td>0.523</td>\n",
       "      <td>0.183</td>\n",
       "      <td>0.294</td>\n",
       "      <td>0.831</td>\n",
       "      <td>1.010</td>\n",
       "      <td>0.404</td>\n",
       "      <td>-1.4</td>\n",
       "      <td>...</td>\n",
       "      <td>0.0</td>\n",
       "      <td>0.0</td>\n",
       "      <td>0.0</td>\n",
       "      <td>0.0</td>\n",
       "      <td>1.0</td>\n",
       "      <td>0.0</td>\n",
       "      <td>0.0</td>\n",
       "      <td>0.0</td>\n",
       "      <td>0.0</td>\n",
       "      <td>0.0</td>\n",
       "    </tr>\n",
       "  </tbody>\n",
       "</table>\n",
       "<p>3 rows × 45 columns</p>\n",
       "</div>"
      ],
      "text/plain": [
       "        Name Legendary  Total     HP  Attack  Defense  Sp. Atk  Sp. Def  \\\n",
       "0  Bulbasaur     False -0.971 -1.001  -0.915   -0.797   -0.239   -0.248   \n",
       "1    Ivysaur     False -0.206 -0.283  -0.452   -0.348    0.220    0.291   \n",
       "2   Venusaur     False  0.767  0.523   0.183    0.294    0.831    1.010   \n",
       "\n",
       "   Speed  Generation       ...        Type 2_Grass  Type 2_Ground  Type 2_Ice  \\\n",
       "0 -0.802        -1.4       ...                 0.0            0.0         0.0   \n",
       "1 -0.285        -1.4       ...                 0.0            0.0         0.0   \n",
       "2  0.404        -1.4       ...                 0.0            0.0         0.0   \n",
       "\n",
       "   Type 2_Others  Type 2_Poison  Type 2_Psychic  Type 2_Rock  Type 2_Steel  \\\n",
       "0            0.0            1.0             0.0          0.0           0.0   \n",
       "1            0.0            1.0             0.0          0.0           0.0   \n",
       "2            0.0            1.0             0.0          0.0           0.0   \n",
       "\n",
       "   Type 2_Water  Type 2_missing  \n",
       "0           0.0             0.0  \n",
       "1           0.0             0.0  \n",
       "2           0.0             0.0  \n",
       "\n",
       "[3 rows x 45 columns]"
      ]
     },
     "execution_count": 434,
     "metadata": {},
     "output_type": "execute_result"
    }
   ],
   "source": [
    "# Explore data.\n",
    "result[0:3]"
   ]
  },
  {
   "cell_type": "code",
   "execution_count": 435,
   "metadata": {
    "ExecuteTime": {
     "end_time": "2018-08-08T16:28:33.874273Z",
     "start_time": "2018-08-08T16:28:33.863265Z"
    },
    "collapsed": true
   },
   "outputs": [],
   "source": [
    "# Convert target column.\n",
    "gen_le = LabelEncoder()\n",
    "gen_le.fit(result[target_column])\n",
    "result[target_column] = gen_le.transform(result[target_column])"
   ]
  },
  {
   "cell_type": "code",
   "execution_count": 436,
   "metadata": {
    "ExecuteTime": {
     "end_time": "2018-08-08T16:28:35.481491Z",
     "start_time": "2018-08-08T16:28:35.403751Z"
    },
    "collapsed": false
   },
   "outputs": [
    {
     "data": {
      "text/html": [
       "<div>\n",
       "<table border=\"1\" class=\"dataframe\">\n",
       "  <thead>\n",
       "    <tr style=\"text-align: right;\">\n",
       "      <th></th>\n",
       "      <th>Name</th>\n",
       "      <th>Legendary</th>\n",
       "      <th>Total</th>\n",
       "      <th>HP</th>\n",
       "      <th>Attack</th>\n",
       "      <th>Defense</th>\n",
       "      <th>Sp. Atk</th>\n",
       "      <th>Sp. Def</th>\n",
       "      <th>Speed</th>\n",
       "      <th>Generation</th>\n",
       "      <th>...</th>\n",
       "      <th>Type 2_Grass</th>\n",
       "      <th>Type 2_Ground</th>\n",
       "      <th>Type 2_Ice</th>\n",
       "      <th>Type 2_Others</th>\n",
       "      <th>Type 2_Poison</th>\n",
       "      <th>Type 2_Psychic</th>\n",
       "      <th>Type 2_Rock</th>\n",
       "      <th>Type 2_Steel</th>\n",
       "      <th>Type 2_Water</th>\n",
       "      <th>Type 2_missing</th>\n",
       "    </tr>\n",
       "  </thead>\n",
       "  <tbody>\n",
       "    <tr>\n",
       "      <th>0</th>\n",
       "      <td>Bulbasaur</td>\n",
       "      <td>0</td>\n",
       "      <td>-0.971</td>\n",
       "      <td>-1.001</td>\n",
       "      <td>-0.915</td>\n",
       "      <td>-0.797</td>\n",
       "      <td>-0.239</td>\n",
       "      <td>-0.248</td>\n",
       "      <td>-0.802</td>\n",
       "      <td>-1.4</td>\n",
       "      <td>...</td>\n",
       "      <td>0.0</td>\n",
       "      <td>0.0</td>\n",
       "      <td>0.0</td>\n",
       "      <td>0.0</td>\n",
       "      <td>1.0</td>\n",
       "      <td>0.0</td>\n",
       "      <td>0.0</td>\n",
       "      <td>0.0</td>\n",
       "      <td>0.0</td>\n",
       "      <td>0.0</td>\n",
       "    </tr>\n",
       "    <tr>\n",
       "      <th>1</th>\n",
       "      <td>Ivysaur</td>\n",
       "      <td>0</td>\n",
       "      <td>-0.206</td>\n",
       "      <td>-0.283</td>\n",
       "      <td>-0.452</td>\n",
       "      <td>-0.348</td>\n",
       "      <td>0.220</td>\n",
       "      <td>0.291</td>\n",
       "      <td>-0.285</td>\n",
       "      <td>-1.4</td>\n",
       "      <td>...</td>\n",
       "      <td>0.0</td>\n",
       "      <td>0.0</td>\n",
       "      <td>0.0</td>\n",
       "      <td>0.0</td>\n",
       "      <td>1.0</td>\n",
       "      <td>0.0</td>\n",
       "      <td>0.0</td>\n",
       "      <td>0.0</td>\n",
       "      <td>0.0</td>\n",
       "      <td>0.0</td>\n",
       "    </tr>\n",
       "    <tr>\n",
       "      <th>2</th>\n",
       "      <td>Venusaur</td>\n",
       "      <td>0</td>\n",
       "      <td>0.767</td>\n",
       "      <td>0.523</td>\n",
       "      <td>0.183</td>\n",
       "      <td>0.294</td>\n",
       "      <td>0.831</td>\n",
       "      <td>1.010</td>\n",
       "      <td>0.404</td>\n",
       "      <td>-1.4</td>\n",
       "      <td>...</td>\n",
       "      <td>0.0</td>\n",
       "      <td>0.0</td>\n",
       "      <td>0.0</td>\n",
       "      <td>0.0</td>\n",
       "      <td>1.0</td>\n",
       "      <td>0.0</td>\n",
       "      <td>0.0</td>\n",
       "      <td>0.0</td>\n",
       "      <td>0.0</td>\n",
       "      <td>0.0</td>\n",
       "    </tr>\n",
       "  </tbody>\n",
       "</table>\n",
       "<p>3 rows × 45 columns</p>\n",
       "</div>"
      ],
      "text/plain": [
       "        Name  Legendary  Total     HP  Attack  Defense  Sp. Atk  Sp. Def  \\\n",
       "0  Bulbasaur          0 -0.971 -1.001  -0.915   -0.797   -0.239   -0.248   \n",
       "1    Ivysaur          0 -0.206 -0.283  -0.452   -0.348    0.220    0.291   \n",
       "2   Venusaur          0  0.767  0.523   0.183    0.294    0.831    1.010   \n",
       "\n",
       "   Speed  Generation       ...        Type 2_Grass  Type 2_Ground  Type 2_Ice  \\\n",
       "0 -0.802        -1.4       ...                 0.0            0.0         0.0   \n",
       "1 -0.285        -1.4       ...                 0.0            0.0         0.0   \n",
       "2  0.404        -1.4       ...                 0.0            0.0         0.0   \n",
       "\n",
       "   Type 2_Others  Type 2_Poison  Type 2_Psychic  Type 2_Rock  Type 2_Steel  \\\n",
       "0            0.0            1.0             0.0          0.0           0.0   \n",
       "1            0.0            1.0             0.0          0.0           0.0   \n",
       "2            0.0            1.0             0.0          0.0           0.0   \n",
       "\n",
       "   Type 2_Water  Type 2_missing  \n",
       "0           0.0             0.0  \n",
       "1           0.0             0.0  \n",
       "2           0.0             0.0  \n",
       "\n",
       "[3 rows x 45 columns]"
      ]
     },
     "execution_count": 436,
     "metadata": {},
     "output_type": "execute_result"
    }
   ],
   "source": [
    "result[0:3]"
   ]
  },
  {
   "cell_type": "markdown",
   "metadata": {},
   "source": [
    "### Build regression models."
   ]
  },
  {
   "cell_type": "code",
   "execution_count": 403,
   "metadata": {
    "ExecuteTime": {
     "end_time": "2018-08-08T16:20:52.457562Z",
     "start_time": "2018-08-08T16:20:52.098907Z"
    },
    "collapsed": true
   },
   "outputs": [],
   "source": [
    "# Build Logistic Regression model to test improvement of accuracy after applying feature transformation.\n",
    "# The task is to predict whether it's legendary or not.\n",
    "logreg = linear_model.LogisticRegression(C=1e5)\n",
    "X = result.iloc[:, 2:]  \n",
    "Y = result.Legendary\n",
    "log_re = logreg.fit(X, Y)"
   ]
  },
  {
   "cell_type": "code",
   "execution_count": 422,
   "metadata": {
    "ExecuteTime": {
     "end_time": "2018-08-08T16:27:25.907660Z",
     "start_time": "2018-08-08T16:27:25.894799Z"
    },
    "collapsed": false
   },
   "outputs": [
    {
     "data": {
      "text/plain": [
       "0.9675"
      ]
     },
     "execution_count": 422,
     "metadata": {},
     "output_type": "execute_result"
    }
   ],
   "source": [
    "# The performance before numerical feature transformation.\n",
    "logreg.score(X, Y) "
   ]
  },
  {
   "cell_type": "code",
   "execution_count": 440,
   "metadata": {
    "ExecuteTime": {
     "end_time": "2018-08-08T16:28:46.471137Z",
     "start_time": "2018-08-08T16:28:46.463219Z"
    },
    "collapsed": false
   },
   "outputs": [
    {
     "data": {
      "text/plain": [
       "0.96875"
      ]
     },
     "execution_count": 440,
     "metadata": {},
     "output_type": "execute_result"
    }
   ],
   "source": [
    "# The performance after numerical feature transformation.\n",
    "logreg.score(X, Y)"
   ]
  },
  {
   "cell_type": "markdown",
   "metadata": {},
   "source": [
    "### Conclusion.\n",
    "From the comparasion of mean accuracy before and after transformation, it's obvious that transformation \n",
    "of numerical feature will increase accuracy."
   ]
  },
  {
   "cell_type": "code",
   "execution_count": null,
   "metadata": {
    "collapsed": true
   },
   "outputs": [],
   "source": []
  }
 ],
 "metadata": {
  "kernelspec": {
   "display_name": "Python 2",
   "language": "python",
   "name": "python2"
  },
  "language_info": {
   "codemirror_mode": {
    "name": "ipython",
    "version": 2
   },
   "file_extension": ".py",
   "mimetype": "text/x-python",
   "name": "python",
   "nbconvert_exporter": "python",
   "pygments_lexer": "ipython2",
   "version": "2.7.10"
  }
 },
 "nbformat": 4,
 "nbformat_minor": 2
}
