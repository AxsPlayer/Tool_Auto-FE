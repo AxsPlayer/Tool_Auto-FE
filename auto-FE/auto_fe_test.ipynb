{
 "cells": [
  {
   "cell_type": "code",
   "execution_count": 133,
   "metadata": {
    "ExecuteTime": {
     "end_time": "2018-09-20T20:12:24.935838Z",
     "start_time": "2018-09-20T20:12:24.851750Z"
    },
    "collapsed": false
   },
   "outputs": [],
   "source": [
    "# Import necessary libraries.\n",
    "import pandas as pd\n",
    "import matplotlib.pyplot as plt\n",
    "from scipy.stats import kstest\n",
    "import numpy as np\n",
    "import scipy.stats as spstats\n",
    "from scipy.stats import shapiro\n",
    "from sklearn.preprocessing import *\n",
    "import warnings\n",
    "from sklearn import linear_model\n",
    "from skater.core.explanations import Interpretation\n",
    "from skater.model import InMemoryModel\n",
    "from skater.core.local_interpretation.lime.lime_tabular import LimeTabularExplainer\n",
    "from IPython.display import display, HTML, clear_output\n",
    "\n",
    "from progressbar import *\n",
    "\n",
    "import data_clean\n",
    "import feature_engineering\n",
    "import feature_filtering\n",
    "import step_by_step\n",
    "import evaluation\n",
    "\n",
    "reload(data_clean)\n",
    "reload(feature_engineering)\n",
    "plt.style.use('ggplot')\n",
    "%matplotlib inline\n",
    "warnings.filterwarnings('ignore')"
   ]
  },
  {
   "cell_type": "code",
   "execution_count": 2,
   "metadata": {
    "ExecuteTime": {
     "end_time": "2018-09-20T17:29:46.971893Z",
     "start_time": "2018-09-20T17:29:46.923196Z"
    },
    "collapsed": false
   },
   "outputs": [],
   "source": [
    "# Read in data for test.\n",
    "features = pd.read_csv('data/pokemon.csv')\n",
    "combats = pd.read_csv('data/combats.csv')\n",
    "test_data = pd.read_csv('data/tests.csv')"
   ]
  },
  {
   "cell_type": "code",
   "execution_count": 3,
   "metadata": {
    "ExecuteTime": {
     "end_time": "2018-09-20T17:29:47.720788Z",
     "start_time": "2018-09-20T17:29:47.685847Z"
    },
    "collapsed": false
   },
   "outputs": [
    {
     "data": {
      "text/html": [
       "<div>\n",
       "<table border=\"1\" class=\"dataframe\">\n",
       "  <thead>\n",
       "    <tr style=\"text-align: right;\">\n",
       "      <th></th>\n",
       "      <th>#</th>\n",
       "      <th>Name</th>\n",
       "      <th>Type 1</th>\n",
       "      <th>Type 2</th>\n",
       "      <th>HP</th>\n",
       "      <th>Attack</th>\n",
       "      <th>Defense</th>\n",
       "      <th>Sp. Atk</th>\n",
       "      <th>Sp. Def</th>\n",
       "      <th>Speed</th>\n",
       "      <th>Generation</th>\n",
       "      <th>Legendary</th>\n",
       "    </tr>\n",
       "  </thead>\n",
       "  <tbody>\n",
       "    <tr>\n",
       "      <th>0</th>\n",
       "      <td>1</td>\n",
       "      <td>Bulbasaur</td>\n",
       "      <td>Grass</td>\n",
       "      <td>Poison</td>\n",
       "      <td>45</td>\n",
       "      <td>49</td>\n",
       "      <td>49</td>\n",
       "      <td>65</td>\n",
       "      <td>65</td>\n",
       "      <td>45</td>\n",
       "      <td>1</td>\n",
       "      <td>False</td>\n",
       "    </tr>\n",
       "    <tr>\n",
       "      <th>1</th>\n",
       "      <td>2</td>\n",
       "      <td>Ivysaur</td>\n",
       "      <td>Grass</td>\n",
       "      <td>Poison</td>\n",
       "      <td>60</td>\n",
       "      <td>62</td>\n",
       "      <td>63</td>\n",
       "      <td>80</td>\n",
       "      <td>80</td>\n",
       "      <td>60</td>\n",
       "      <td>1</td>\n",
       "      <td>False</td>\n",
       "    </tr>\n",
       "    <tr>\n",
       "      <th>2</th>\n",
       "      <td>3</td>\n",
       "      <td>Venusaur</td>\n",
       "      <td>Grass</td>\n",
       "      <td>Poison</td>\n",
       "      <td>80</td>\n",
       "      <td>82</td>\n",
       "      <td>83</td>\n",
       "      <td>100</td>\n",
       "      <td>100</td>\n",
       "      <td>80</td>\n",
       "      <td>1</td>\n",
       "      <td>False</td>\n",
       "    </tr>\n",
       "  </tbody>\n",
       "</table>\n",
       "</div>"
      ],
      "text/plain": [
       "   #       Name Type 1  Type 2  HP  Attack  Defense  Sp. Atk  Sp. Def  Speed  \\\n",
       "0  1  Bulbasaur  Grass  Poison  45      49       49       65       65     45   \n",
       "1  2    Ivysaur  Grass  Poison  60      62       63       80       80     60   \n",
       "2  3   Venusaur  Grass  Poison  80      82       83      100      100     80   \n",
       "\n",
       "   Generation Legendary  \n",
       "0           1     False  \n",
       "1           1     False  \n",
       "2           1     False  "
      ]
     },
     "execution_count": 3,
     "metadata": {},
     "output_type": "execute_result"
    }
   ],
   "source": [
    "# Explore data.\n",
    "features[0:3]"
   ]
  },
  {
   "cell_type": "code",
   "execution_count": 4,
   "metadata": {
    "ExecuteTime": {
     "end_time": "2018-09-20T17:29:49.531366Z",
     "start_time": "2018-09-20T17:29:49.523279Z"
    },
    "collapsed": false
   },
   "outputs": [],
   "source": [
    "column_name = list(features.columns + '_1') + list(features.columns + '_2') + ['win']\n",
    "results = pd.DataFrame(columns=column_name)"
   ]
  },
  {
   "cell_type": "code",
   "execution_count": 5,
   "metadata": {
    "ExecuteTime": {
     "end_time": "2018-09-20T17:38:36.190594Z",
     "start_time": "2018-09-20T17:29:50.097108Z"
    },
    "collapsed": false
   },
   "outputs": [
    {
     "name": "stderr",
     "output_type": "stream",
     "text": [
      "100% |########################################################################|\n"
     ]
    }
   ],
   "source": [
    "progress = ProgressBar()\n",
    "for num in progress(xrange(combats.shape[0]/2)):\n",
    "    # Fetch the features of each player.\n",
    "    player_1 = features[features['#']==combats['First_pokemon'].loc[num]]\n",
    "    player_2 = features[features['#'] == combats['Second_pokemon'].loc[num]]\n",
    "    # Fetch result of combat.\n",
    "    if combats['First_pokemon'].loc[num] == combats['Winner'].loc[num]:\n",
    "        win = [1]\n",
    "    else:\n",
    "        win = [0]\n",
    "    # Assign vector combination to result dataframe.\n",
    "    results.loc[num] = np.array(player_1).tolist()[0] + np.array(player_2).tolist()[0] + list(win)"
   ]
  },
  {
   "cell_type": "code",
   "execution_count": 6,
   "metadata": {
    "ExecuteTime": {
     "end_time": "2018-09-20T17:40:56.767574Z",
     "start_time": "2018-09-20T17:40:56.460054Z"
    },
    "collapsed": false
   },
   "outputs": [
    {
     "data": {
      "text/html": [
       "<div>\n",
       "<table border=\"1\" class=\"dataframe\">\n",
       "  <thead>\n",
       "    <tr style=\"text-align: right;\">\n",
       "      <th></th>\n",
       "      <th>#_1</th>\n",
       "      <th>Name_1</th>\n",
       "      <th>Type 1_1</th>\n",
       "      <th>Type 2_1</th>\n",
       "      <th>HP_1</th>\n",
       "      <th>Attack_1</th>\n",
       "      <th>Defense_1</th>\n",
       "      <th>Sp. Atk_1</th>\n",
       "      <th>Sp. Def_1</th>\n",
       "      <th>Speed_1</th>\n",
       "      <th>...</th>\n",
       "      <th>Type 2_2</th>\n",
       "      <th>HP_2</th>\n",
       "      <th>Attack_2</th>\n",
       "      <th>Defense_2</th>\n",
       "      <th>Sp. Atk_2</th>\n",
       "      <th>Sp. Def_2</th>\n",
       "      <th>Speed_2</th>\n",
       "      <th>Generation_2</th>\n",
       "      <th>Legendary_2</th>\n",
       "      <th>win</th>\n",
       "    </tr>\n",
       "  </thead>\n",
       "  <tbody>\n",
       "    <tr>\n",
       "      <th>0</th>\n",
       "      <td>266.0</td>\n",
       "      <td>Larvitar</td>\n",
       "      <td>Rock</td>\n",
       "      <td>Ground</td>\n",
       "      <td>50.0</td>\n",
       "      <td>64.0</td>\n",
       "      <td>50.0</td>\n",
       "      <td>45.0</td>\n",
       "      <td>50.0</td>\n",
       "      <td>41.0</td>\n",
       "      <td>...</td>\n",
       "      <td>Dark</td>\n",
       "      <td>70.0</td>\n",
       "      <td>70.0</td>\n",
       "      <td>40.0</td>\n",
       "      <td>60.0</td>\n",
       "      <td>40.0</td>\n",
       "      <td>60.0</td>\n",
       "      <td>3.0</td>\n",
       "      <td>False</td>\n",
       "      <td>0.0</td>\n",
       "    </tr>\n",
       "    <tr>\n",
       "      <th>1</th>\n",
       "      <td>702.0</td>\n",
       "      <td>Virizion</td>\n",
       "      <td>Grass</td>\n",
       "      <td>Fighting</td>\n",
       "      <td>91.0</td>\n",
       "      <td>90.0</td>\n",
       "      <td>72.0</td>\n",
       "      <td>90.0</td>\n",
       "      <td>129.0</td>\n",
       "      <td>108.0</td>\n",
       "      <td>...</td>\n",
       "      <td>Fighting</td>\n",
       "      <td>91.0</td>\n",
       "      <td>129.0</td>\n",
       "      <td>90.0</td>\n",
       "      <td>72.0</td>\n",
       "      <td>90.0</td>\n",
       "      <td>108.0</td>\n",
       "      <td>5.0</td>\n",
       "      <td>True</td>\n",
       "      <td>0.0</td>\n",
       "    </tr>\n",
       "    <tr>\n",
       "      <th>2</th>\n",
       "      <td>191.0</td>\n",
       "      <td>Togetic</td>\n",
       "      <td>Fairy</td>\n",
       "      <td>Flying</td>\n",
       "      <td>55.0</td>\n",
       "      <td>40.0</td>\n",
       "      <td>85.0</td>\n",
       "      <td>80.0</td>\n",
       "      <td>105.0</td>\n",
       "      <td>40.0</td>\n",
       "      <td>...</td>\n",
       "      <td>NaN</td>\n",
       "      <td>75.0</td>\n",
       "      <td>75.0</td>\n",
       "      <td>75.0</td>\n",
       "      <td>125.0</td>\n",
       "      <td>95.0</td>\n",
       "      <td>40.0</td>\n",
       "      <td>5.0</td>\n",
       "      <td>False</td>\n",
       "      <td>0.0</td>\n",
       "    </tr>\n",
       "  </tbody>\n",
       "</table>\n",
       "<p>3 rows × 25 columns</p>\n",
       "</div>"
      ],
      "text/plain": [
       "     #_1    Name_1 Type 1_1  Type 2_1  HP_1  Attack_1  Defense_1  Sp. Atk_1  \\\n",
       "0  266.0  Larvitar     Rock    Ground  50.0      64.0       50.0       45.0   \n",
       "1  702.0  Virizion    Grass  Fighting  91.0      90.0       72.0       90.0   \n",
       "2  191.0   Togetic    Fairy    Flying  55.0      40.0       85.0       80.0   \n",
       "\n",
       "   Sp. Def_1  Speed_1 ...   Type 2_2  HP_2  Attack_2 Defense_2 Sp. Atk_2  \\\n",
       "0       50.0     41.0 ...       Dark  70.0      70.0      40.0      60.0   \n",
       "1      129.0    108.0 ...   Fighting  91.0     129.0      90.0      72.0   \n",
       "2      105.0     40.0 ...        NaN  75.0      75.0      75.0     125.0   \n",
       "\n",
       "  Sp. Def_2  Speed_2  Generation_2  Legendary_2  win  \n",
       "0      40.0     60.0           3.0        False  0.0  \n",
       "1      90.0    108.0           5.0         True  0.0  \n",
       "2      95.0     40.0           5.0        False  0.0  \n",
       "\n",
       "[3 rows x 25 columns]"
      ]
     },
     "execution_count": 6,
     "metadata": {},
     "output_type": "execute_result"
    }
   ],
   "source": [
    "results[0:3]"
   ]
  },
  {
   "cell_type": "code",
   "execution_count": 7,
   "metadata": {
    "ExecuteTime": {
     "end_time": "2018-09-20T17:41:02.795752Z",
     "start_time": "2018-09-20T17:41:02.777246Z"
    },
    "collapsed": false
   },
   "outputs": [
    {
     "data": {
      "text/html": [
       "<div>\n",
       "<table border=\"1\" class=\"dataframe\">\n",
       "  <thead>\n",
       "    <tr style=\"text-align: right;\">\n",
       "      <th></th>\n",
       "      <th>First_pokemon</th>\n",
       "      <th>Second_pokemon</th>\n",
       "      <th>Winner</th>\n",
       "    </tr>\n",
       "  </thead>\n",
       "  <tbody>\n",
       "    <tr>\n",
       "      <th>0</th>\n",
       "      <td>266</td>\n",
       "      <td>298</td>\n",
       "      <td>298</td>\n",
       "    </tr>\n",
       "    <tr>\n",
       "      <th>1</th>\n",
       "      <td>702</td>\n",
       "      <td>701</td>\n",
       "      <td>701</td>\n",
       "    </tr>\n",
       "    <tr>\n",
       "      <th>2</th>\n",
       "      <td>191</td>\n",
       "      <td>668</td>\n",
       "      <td>668</td>\n",
       "    </tr>\n",
       "  </tbody>\n",
       "</table>\n",
       "</div>"
      ],
      "text/plain": [
       "   First_pokemon  Second_pokemon  Winner\n",
       "0            266             298     298\n",
       "1            702             701     701\n",
       "2            191             668     668"
      ]
     },
     "execution_count": 7,
     "metadata": {},
     "output_type": "execute_result"
    }
   ],
   "source": [
    "# Explore data.\n",
    "combats[0:3]"
   ]
  },
  {
   "cell_type": "code",
   "execution_count": 8,
   "metadata": {
    "ExecuteTime": {
     "end_time": "2018-09-20T17:41:04.873019Z",
     "start_time": "2018-09-20T17:41:04.795063Z"
    },
    "collapsed": false
   },
   "outputs": [
    {
     "data": {
      "text/html": [
       "<div>\n",
       "<table border=\"1\" class=\"dataframe\">\n",
       "  <thead>\n",
       "    <tr style=\"text-align: right;\">\n",
       "      <th></th>\n",
       "      <th>#_1</th>\n",
       "      <th>Name_1</th>\n",
       "      <th>Type 1_1</th>\n",
       "      <th>Type 2_1</th>\n",
       "      <th>HP_1</th>\n",
       "      <th>Attack_1</th>\n",
       "      <th>Defense_1</th>\n",
       "      <th>Sp. Atk_1</th>\n",
       "      <th>Sp. Def_1</th>\n",
       "      <th>Speed_1</th>\n",
       "      <th>...</th>\n",
       "      <th>Type 2_2</th>\n",
       "      <th>HP_2</th>\n",
       "      <th>Attack_2</th>\n",
       "      <th>Defense_2</th>\n",
       "      <th>Sp. Atk_2</th>\n",
       "      <th>Sp. Def_2</th>\n",
       "      <th>Speed_2</th>\n",
       "      <th>Generation_2</th>\n",
       "      <th>Legendary_2</th>\n",
       "      <th>win</th>\n",
       "    </tr>\n",
       "  </thead>\n",
       "  <tbody>\n",
       "    <tr>\n",
       "      <th>0</th>\n",
       "      <td>266.0</td>\n",
       "      <td>Larvitar</td>\n",
       "      <td>Rock</td>\n",
       "      <td>Ground</td>\n",
       "      <td>50.0</td>\n",
       "      <td>64.0</td>\n",
       "      <td>50.0</td>\n",
       "      <td>45.0</td>\n",
       "      <td>50.0</td>\n",
       "      <td>41.0</td>\n",
       "      <td>...</td>\n",
       "      <td>Dark</td>\n",
       "      <td>70.0</td>\n",
       "      <td>70.0</td>\n",
       "      <td>40.0</td>\n",
       "      <td>60.0</td>\n",
       "      <td>40.0</td>\n",
       "      <td>60.0</td>\n",
       "      <td>3.0</td>\n",
       "      <td>False</td>\n",
       "      <td>0.0</td>\n",
       "    </tr>\n",
       "    <tr>\n",
       "      <th>1</th>\n",
       "      <td>702.0</td>\n",
       "      <td>Virizion</td>\n",
       "      <td>Grass</td>\n",
       "      <td>Fighting</td>\n",
       "      <td>91.0</td>\n",
       "      <td>90.0</td>\n",
       "      <td>72.0</td>\n",
       "      <td>90.0</td>\n",
       "      <td>129.0</td>\n",
       "      <td>108.0</td>\n",
       "      <td>...</td>\n",
       "      <td>Fighting</td>\n",
       "      <td>91.0</td>\n",
       "      <td>129.0</td>\n",
       "      <td>90.0</td>\n",
       "      <td>72.0</td>\n",
       "      <td>90.0</td>\n",
       "      <td>108.0</td>\n",
       "      <td>5.0</td>\n",
       "      <td>True</td>\n",
       "      <td>0.0</td>\n",
       "    </tr>\n",
       "    <tr>\n",
       "      <th>2</th>\n",
       "      <td>191.0</td>\n",
       "      <td>Togetic</td>\n",
       "      <td>Fairy</td>\n",
       "      <td>Flying</td>\n",
       "      <td>55.0</td>\n",
       "      <td>40.0</td>\n",
       "      <td>85.0</td>\n",
       "      <td>80.0</td>\n",
       "      <td>105.0</td>\n",
       "      <td>40.0</td>\n",
       "      <td>...</td>\n",
       "      <td>NaN</td>\n",
       "      <td>75.0</td>\n",
       "      <td>75.0</td>\n",
       "      <td>75.0</td>\n",
       "      <td>125.0</td>\n",
       "      <td>95.0</td>\n",
       "      <td>40.0</td>\n",
       "      <td>5.0</td>\n",
       "      <td>False</td>\n",
       "      <td>0.0</td>\n",
       "    </tr>\n",
       "  </tbody>\n",
       "</table>\n",
       "<p>3 rows × 25 columns</p>\n",
       "</div>"
      ],
      "text/plain": [
       "     #_1    Name_1 Type 1_1  Type 2_1  HP_1  Attack_1  Defense_1  Sp. Atk_1  \\\n",
       "0  266.0  Larvitar     Rock    Ground  50.0      64.0       50.0       45.0   \n",
       "1  702.0  Virizion    Grass  Fighting  91.0      90.0       72.0       90.0   \n",
       "2  191.0   Togetic    Fairy    Flying  55.0      40.0       85.0       80.0   \n",
       "\n",
       "   Sp. Def_1  Speed_1 ...   Type 2_2  HP_2  Attack_2 Defense_2 Sp. Atk_2  \\\n",
       "0       50.0     41.0 ...       Dark  70.0      70.0      40.0      60.0   \n",
       "1      129.0    108.0 ...   Fighting  91.0     129.0      90.0      72.0   \n",
       "2      105.0     40.0 ...        NaN  75.0      75.0      75.0     125.0   \n",
       "\n",
       "  Sp. Def_2  Speed_2  Generation_2  Legendary_2  win  \n",
       "0      40.0     60.0           3.0        False  0.0  \n",
       "1      90.0    108.0           5.0         True  0.0  \n",
       "2      95.0     40.0           5.0        False  0.0  \n",
       "\n",
       "[3 rows x 25 columns]"
      ]
     },
     "execution_count": 8,
     "metadata": {},
     "output_type": "execute_result"
    }
   ],
   "source": [
    "# Explore data.\n",
    "results[0:3]"
   ]
  },
  {
   "cell_type": "code",
   "execution_count": 9,
   "metadata": {
    "ExecuteTime": {
     "end_time": "2018-09-20T17:41:08.004201Z",
     "start_time": "2018-09-20T17:41:07.969764Z"
    },
    "collapsed": false
   },
   "outputs": [
    {
     "data": {
      "text/plain": [
       "<module 'feature_engineering' from 'feature_engineering.pyc'>"
      ]
     },
     "execution_count": 9,
     "metadata": {},
     "output_type": "execute_result"
    }
   ],
   "source": [
    "reload(data_clean)\n",
    "reload(feature_engineering)"
   ]
  },
  {
   "cell_type": "code",
   "execution_count": 100,
   "metadata": {
    "ExecuteTime": {
     "end_time": "2018-09-20T20:00:21.077037Z",
     "start_time": "2018-09-20T20:00:06.300151Z"
    },
    "collapsed": false,
    "scrolled": false
   },
   "outputs": [
    {
     "name": "stdout",
     "output_type": "stream",
     "text": [
      "The ratio of outliers is 0.008252\n",
      "The row index of outliers is as follows: [1, 25, 51, 260, 599, 677, 731, 776, 788, 862, 913, 1003, 1123, 1203, 1468, 1550, 1783, 1794, 1817, 1865, 1992, 2038, 2398, 2593, 2916, 2970, 2973, 3351, 3546, 3570, 3765, 3895, 3961, 4133, 4289, 4345, 4547, 4578, 4634, 4724, 4788, 4801, 4829, 4846, 4854, 5013, 5231, 5243, 5491, 5529, 5566, 5751, 5757, 6139, 6216, 6293, 6388, 6434, 6445, 6546, 6665, 6819, 7039, 7110, 7198, 7457, 7573, 7601, 7667, 7723, 7744, 7955, 8114, 8223, 8308, 8329, 8455, 8616, 8669, 8792, 8795, 9211, 9250, 9385, 9592, 9594, 9752, 9817, 9832, 9852, 10158, 10303, 10326, 10342, 10350, 10386, 10532, 10555, 10868, 11125, 11203, 11324, 11401, 11419, 11423, 11682, 11712, 11759, 11765, 12228, 12288, 12474, 12479, 12697, 12951, 13012, 13088, 13165, 13211, 13286, 13506, 13524, 13577, 13709, 13943, 14349, 14591, 14599, 14690, 14722, 14792, 14894, 14945, 14995, 15398, 15401, 15626, 15782, 15982, 16033, 16098, 16295, 16628, 16904, 17007, 17164, 17178, 17231, 17313, 17404, 17798, 17819, 17837, 18289, 18311, 18395, 18483, 18588, 18768, 18950, 19189, 19215, 19330, 19567, 19706, 20148, 20433, 20573, 20801, 20893, 21076, 21092, 21106, 21151, 21172, 21208, 21282, 21518, 21606, 21833, 21838, 21890, 22017, 22269, 22324, 22479, 22760, 22852, 22871, 22972, 22977, 23092, 23244, 23362, 23424, 23590, 23721, 23973, 24003, 24055, 24291, 24330]\n"
     ]
    }
   ],
   "source": [
    "target_column = 'win'\n",
    "id_columns = ['#_1', 'Name_1', '#_2', 'Name_2']\n",
    "result_1 = data_clean.wash_data(results, target_column, id_columns, outlier=False)"
   ]
  },
  {
   "cell_type": "code",
   "execution_count": 134,
   "metadata": {
    "ExecuteTime": {
     "end_time": "2018-09-20T20:12:32.886891Z",
     "start_time": "2018-09-20T20:12:32.820219Z"
    },
    "collapsed": false
   },
   "outputs": [
    {
     "data": {
      "text/html": [
       "<div>\n",
       "<table border=\"1\" class=\"dataframe\">\n",
       "  <thead>\n",
       "    <tr style=\"text-align: right;\">\n",
       "      <th></th>\n",
       "      <th>Type 1_1</th>\n",
       "      <th>Type 2_1</th>\n",
       "      <th>HP_1</th>\n",
       "      <th>Attack_1</th>\n",
       "      <th>Defense_1</th>\n",
       "      <th>Sp. Atk_1</th>\n",
       "      <th>Sp. Def_1</th>\n",
       "      <th>Speed_1</th>\n",
       "      <th>Generation_1</th>\n",
       "      <th>Legendary_1</th>\n",
       "      <th>...</th>\n",
       "      <th>Type 2_2</th>\n",
       "      <th>HP_2</th>\n",
       "      <th>Attack_2</th>\n",
       "      <th>Defense_2</th>\n",
       "      <th>Sp. Atk_2</th>\n",
       "      <th>Sp. Def_2</th>\n",
       "      <th>Speed_2</th>\n",
       "      <th>Generation_2</th>\n",
       "      <th>Legendary_2</th>\n",
       "      <th>win</th>\n",
       "    </tr>\n",
       "  </thead>\n",
       "  <tbody>\n",
       "    <tr>\n",
       "      <th>0</th>\n",
       "      <td>Rock</td>\n",
       "      <td>Ground</td>\n",
       "      <td>50.0</td>\n",
       "      <td>64.0</td>\n",
       "      <td>50.0</td>\n",
       "      <td>45.0</td>\n",
       "      <td>50.0</td>\n",
       "      <td>41.0</td>\n",
       "      <td>2.0</td>\n",
       "      <td>False</td>\n",
       "      <td>...</td>\n",
       "      <td>Dark</td>\n",
       "      <td>70.0</td>\n",
       "      <td>70.0</td>\n",
       "      <td>40.0</td>\n",
       "      <td>60.0</td>\n",
       "      <td>40.0</td>\n",
       "      <td>60.0</td>\n",
       "      <td>3.0</td>\n",
       "      <td>False</td>\n",
       "      <td>0.0</td>\n",
       "    </tr>\n",
       "    <tr>\n",
       "      <th>1</th>\n",
       "      <td>Grass</td>\n",
       "      <td>Fighting</td>\n",
       "      <td>91.0</td>\n",
       "      <td>90.0</td>\n",
       "      <td>72.0</td>\n",
       "      <td>90.0</td>\n",
       "      <td>129.0</td>\n",
       "      <td>108.0</td>\n",
       "      <td>5.0</td>\n",
       "      <td>True</td>\n",
       "      <td>...</td>\n",
       "      <td>Fighting</td>\n",
       "      <td>91.0</td>\n",
       "      <td>129.0</td>\n",
       "      <td>90.0</td>\n",
       "      <td>72.0</td>\n",
       "      <td>90.0</td>\n",
       "      <td>108.0</td>\n",
       "      <td>5.0</td>\n",
       "      <td>True</td>\n",
       "      <td>0.0</td>\n",
       "    </tr>\n",
       "    <tr>\n",
       "      <th>2</th>\n",
       "      <td>Fairy</td>\n",
       "      <td>Flying</td>\n",
       "      <td>55.0</td>\n",
       "      <td>40.0</td>\n",
       "      <td>85.0</td>\n",
       "      <td>80.0</td>\n",
       "      <td>105.0</td>\n",
       "      <td>40.0</td>\n",
       "      <td>2.0</td>\n",
       "      <td>False</td>\n",
       "      <td>...</td>\n",
       "      <td>NaN</td>\n",
       "      <td>75.0</td>\n",
       "      <td>75.0</td>\n",
       "      <td>75.0</td>\n",
       "      <td>125.0</td>\n",
       "      <td>95.0</td>\n",
       "      <td>40.0</td>\n",
       "      <td>5.0</td>\n",
       "      <td>False</td>\n",
       "      <td>0.0</td>\n",
       "    </tr>\n",
       "  </tbody>\n",
       "</table>\n",
       "<p>3 rows × 21 columns</p>\n",
       "</div>"
      ],
      "text/plain": [
       "  Type 1_1  Type 2_1  HP_1  Attack_1  Defense_1  Sp. Atk_1  Sp. Def_1  \\\n",
       "0     Rock    Ground  50.0      64.0       50.0       45.0       50.0   \n",
       "1    Grass  Fighting  91.0      90.0       72.0       90.0      129.0   \n",
       "2    Fairy    Flying  55.0      40.0       85.0       80.0      105.0   \n",
       "\n",
       "   Speed_1  Generation_1 Legendary_1 ...   Type 2_2  HP_2  Attack_2  \\\n",
       "0     41.0           2.0       False ...       Dark  70.0      70.0   \n",
       "1    108.0           5.0        True ...   Fighting  91.0     129.0   \n",
       "2     40.0           2.0       False ...        NaN  75.0      75.0   \n",
       "\n",
       "   Defense_2  Sp. Atk_2  Sp. Def_2  Speed_2  Generation_2  Legendary_2  win  \n",
       "0       40.0       60.0       40.0     60.0           3.0        False  0.0  \n",
       "1       90.0       72.0       90.0    108.0           5.0         True  0.0  \n",
       "2       75.0      125.0       95.0     40.0           5.0        False  0.0  \n",
       "\n",
       "[3 rows x 21 columns]"
      ]
     },
     "execution_count": 134,
     "metadata": {},
     "output_type": "execute_result"
    }
   ],
   "source": [
    "result_1[0:3]"
   ]
  },
  {
   "cell_type": "code",
   "execution_count": 138,
   "metadata": {
    "ExecuteTime": {
     "end_time": "2018-09-20T20:12:57.895565Z",
     "start_time": "2018-09-20T20:12:57.823020Z"
    },
    "collapsed": false
   },
   "outputs": [],
   "source": [
    "result_2 = data_clean.sample_data(result_1, target_column, id_columns, method='under-sampling')"
   ]
  },
  {
   "cell_type": "code",
   "execution_count": 136,
   "metadata": {
    "ExecuteTime": {
     "end_time": "2018-09-20T20:12:46.953041Z",
     "start_time": "2018-09-20T20:12:46.889875Z"
    },
    "collapsed": false
   },
   "outputs": [
    {
     "data": {
      "text/html": [
       "<div>\n",
       "<table border=\"1\" class=\"dataframe\">\n",
       "  <thead>\n",
       "    <tr style=\"text-align: right;\">\n",
       "      <th></th>\n",
       "      <th>Type 1_1</th>\n",
       "      <th>Type 2_1</th>\n",
       "      <th>HP_1</th>\n",
       "      <th>Attack_1</th>\n",
       "      <th>Defense_1</th>\n",
       "      <th>Sp. Atk_1</th>\n",
       "      <th>Sp. Def_1</th>\n",
       "      <th>Speed_1</th>\n",
       "      <th>Generation_1</th>\n",
       "      <th>Legendary_1</th>\n",
       "      <th>...</th>\n",
       "      <th>Type 2_2</th>\n",
       "      <th>HP_2</th>\n",
       "      <th>Attack_2</th>\n",
       "      <th>Defense_2</th>\n",
       "      <th>Sp. Atk_2</th>\n",
       "      <th>Sp. Def_2</th>\n",
       "      <th>Speed_2</th>\n",
       "      <th>Generation_2</th>\n",
       "      <th>Legendary_2</th>\n",
       "      <th>win</th>\n",
       "    </tr>\n",
       "  </thead>\n",
       "  <tbody>\n",
       "    <tr>\n",
       "      <th>0</th>\n",
       "      <td>Psychic</td>\n",
       "      <td>missing</td>\n",
       "      <td>120.0</td>\n",
       "      <td>70.0</td>\n",
       "      <td>120.0</td>\n",
       "      <td>75.0</td>\n",
       "      <td>130.0</td>\n",
       "      <td>85.0</td>\n",
       "      <td>4.0</td>\n",
       "      <td>False</td>\n",
       "      <td>...</td>\n",
       "      <td>Psychic</td>\n",
       "      <td>80.0</td>\n",
       "      <td>80.0</td>\n",
       "      <td>90.0</td>\n",
       "      <td>110.0</td>\n",
       "      <td>130.0</td>\n",
       "      <td>110.0</td>\n",
       "      <td>3.0</td>\n",
       "      <td>True</td>\n",
       "      <td>0.0</td>\n",
       "    </tr>\n",
       "    <tr>\n",
       "      <th>1</th>\n",
       "      <td>Ice</td>\n",
       "      <td>Water</td>\n",
       "      <td>90.0</td>\n",
       "      <td>60.0</td>\n",
       "      <td>70.0</td>\n",
       "      <td>75.0</td>\n",
       "      <td>70.0</td>\n",
       "      <td>45.0</td>\n",
       "      <td>3.0</td>\n",
       "      <td>False</td>\n",
       "      <td>...</td>\n",
       "      <td>missing</td>\n",
       "      <td>100.0</td>\n",
       "      <td>75.0</td>\n",
       "      <td>115.0</td>\n",
       "      <td>90.0</td>\n",
       "      <td>115.0</td>\n",
       "      <td>85.0</td>\n",
       "      <td>2.0</td>\n",
       "      <td>True</td>\n",
       "      <td>0.0</td>\n",
       "    </tr>\n",
       "    <tr>\n",
       "      <th>2</th>\n",
       "      <td>Electric</td>\n",
       "      <td>missing</td>\n",
       "      <td>60.0</td>\n",
       "      <td>85.0</td>\n",
       "      <td>49.0</td>\n",
       "      <td>60.0</td>\n",
       "      <td>49.0</td>\n",
       "      <td>60.0</td>\n",
       "      <td>4.0</td>\n",
       "      <td>False</td>\n",
       "      <td>...</td>\n",
       "      <td>missing</td>\n",
       "      <td>75.0</td>\n",
       "      <td>100.0</td>\n",
       "      <td>110.0</td>\n",
       "      <td>45.0</td>\n",
       "      <td>55.0</td>\n",
       "      <td>65.0</td>\n",
       "      <td>1.0</td>\n",
       "      <td>False</td>\n",
       "      <td>0.0</td>\n",
       "    </tr>\n",
       "  </tbody>\n",
       "</table>\n",
       "<p>3 rows × 21 columns</p>\n",
       "</div>"
      ],
      "text/plain": [
       "   Type 1_1 Type 2_1   HP_1  Attack_1  Defense_1  Sp. Atk_1  Sp. Def_1  \\\n",
       "0   Psychic  missing  120.0      70.0      120.0       75.0      130.0   \n",
       "1       Ice    Water   90.0      60.0       70.0       75.0       70.0   \n",
       "2  Electric  missing   60.0      85.0       49.0       60.0       49.0   \n",
       "\n",
       "   Speed_1  Generation_1 Legendary_1 ...  Type 2_2   HP_2  Attack_2  \\\n",
       "0     85.0           4.0       False ...   Psychic   80.0      80.0   \n",
       "1     45.0           3.0       False ...   missing  100.0      75.0   \n",
       "2     60.0           4.0       False ...   missing   75.0     100.0   \n",
       "\n",
       "   Defense_2  Sp. Atk_2  Sp. Def_2  Speed_2  Generation_2  Legendary_2  win  \n",
       "0       90.0      110.0      130.0    110.0           3.0         True  0.0  \n",
       "1      115.0       90.0      115.0     85.0           2.0         True  0.0  \n",
       "2      110.0       45.0       55.0     65.0           1.0        False  0.0  \n",
       "\n",
       "[3 rows x 21 columns]"
      ]
     },
     "execution_count": 136,
     "metadata": {},
     "output_type": "execute_result"
    }
   ],
   "source": [
    "result_2[0:3]"
   ]
  },
  {
   "cell_type": "code",
   "execution_count": 135,
   "metadata": {
    "ExecuteTime": {
     "end_time": "2018-09-20T20:12:38.878602Z",
     "start_time": "2018-09-20T20:12:38.861162Z"
    },
    "collapsed": true
   },
   "outputs": [],
   "source": [
    "num_columns, cate_columns = feature_engineering.column_type_detection(result_2, id_columns, target_column)"
   ]
  },
  {
   "cell_type": "code",
   "execution_count": 139,
   "metadata": {
    "ExecuteTime": {
     "end_time": "2018-09-20T20:13:02.532959Z",
     "start_time": "2018-09-20T20:13:01.245397Z"
    },
    "collapsed": false
   },
   "outputs": [],
   "source": [
    "cate_fe = feature_engineering.CategoryFeatureEngineer(cate_columns)\n",
    "result_3 = cate_fe.fit_transform(result_2)"
   ]
  },
  {
   "cell_type": "code",
   "execution_count": 140,
   "metadata": {
    "ExecuteTime": {
     "end_time": "2018-09-20T20:13:04.565409Z",
     "start_time": "2018-09-20T20:13:04.556705Z"
    },
    "collapsed": false
   },
   "outputs": [
    {
     "data": {
      "text/plain": [
       "(21267, 95)"
      ]
     },
     "execution_count": 140,
     "metadata": {},
     "output_type": "execute_result"
    }
   ],
   "source": [
    "result_3.shape"
   ]
  },
  {
   "cell_type": "code",
   "execution_count": 141,
   "metadata": {
    "ExecuteTime": {
     "end_time": "2018-09-20T20:13:05.335882Z",
     "start_time": "2018-09-20T20:13:05.249375Z"
    },
    "collapsed": false
   },
   "outputs": [
    {
     "data": {
      "text/html": [
       "<div>\n",
       "<table border=\"1\" class=\"dataframe\">\n",
       "  <thead>\n",
       "    <tr style=\"text-align: right;\">\n",
       "      <th></th>\n",
       "      <th>Type 1_1</th>\n",
       "      <th>Type 1_1_Bug</th>\n",
       "      <th>Type 1_1_Dark</th>\n",
       "      <th>Type 1_1_Dragon</th>\n",
       "      <th>Type 1_1_Electric</th>\n",
       "      <th>Type 1_1_Fairy</th>\n",
       "      <th>Type 1_1_Fighting</th>\n",
       "      <th>Type 1_1_Fire</th>\n",
       "      <th>Type 1_1_Ghost</th>\n",
       "      <th>Type 1_1_Grass</th>\n",
       "      <th>...</th>\n",
       "      <th>Speed_1</th>\n",
       "      <th>Generation_1</th>\n",
       "      <th>HP_2</th>\n",
       "      <th>Attack_2</th>\n",
       "      <th>Defense_2</th>\n",
       "      <th>Sp. Atk_2</th>\n",
       "      <th>Sp. Def_2</th>\n",
       "      <th>Speed_2</th>\n",
       "      <th>Generation_2</th>\n",
       "      <th>win</th>\n",
       "    </tr>\n",
       "  </thead>\n",
       "  <tbody>\n",
       "    <tr>\n",
       "      <th>0</th>\n",
       "      <td>14</td>\n",
       "      <td>0.0</td>\n",
       "      <td>0.0</td>\n",
       "      <td>0.0</td>\n",
       "      <td>0.0</td>\n",
       "      <td>0.0</td>\n",
       "      <td>0.0</td>\n",
       "      <td>0.0</td>\n",
       "      <td>0.0</td>\n",
       "      <td>0.0</td>\n",
       "      <td>...</td>\n",
       "      <td>85.0</td>\n",
       "      <td>4.0</td>\n",
       "      <td>80.0</td>\n",
       "      <td>80.0</td>\n",
       "      <td>90.0</td>\n",
       "      <td>110.0</td>\n",
       "      <td>130.0</td>\n",
       "      <td>110.0</td>\n",
       "      <td>3.0</td>\n",
       "      <td>0.0</td>\n",
       "    </tr>\n",
       "    <tr>\n",
       "      <th>1</th>\n",
       "      <td>10</td>\n",
       "      <td>0.0</td>\n",
       "      <td>0.0</td>\n",
       "      <td>0.0</td>\n",
       "      <td>0.0</td>\n",
       "      <td>0.0</td>\n",
       "      <td>0.0</td>\n",
       "      <td>0.0</td>\n",
       "      <td>0.0</td>\n",
       "      <td>0.0</td>\n",
       "      <td>...</td>\n",
       "      <td>45.0</td>\n",
       "      <td>3.0</td>\n",
       "      <td>100.0</td>\n",
       "      <td>75.0</td>\n",
       "      <td>115.0</td>\n",
       "      <td>90.0</td>\n",
       "      <td>115.0</td>\n",
       "      <td>85.0</td>\n",
       "      <td>2.0</td>\n",
       "      <td>0.0</td>\n",
       "    </tr>\n",
       "    <tr>\n",
       "      <th>2</th>\n",
       "      <td>3</td>\n",
       "      <td>0.0</td>\n",
       "      <td>0.0</td>\n",
       "      <td>0.0</td>\n",
       "      <td>1.0</td>\n",
       "      <td>0.0</td>\n",
       "      <td>0.0</td>\n",
       "      <td>0.0</td>\n",
       "      <td>0.0</td>\n",
       "      <td>0.0</td>\n",
       "      <td>...</td>\n",
       "      <td>60.0</td>\n",
       "      <td>4.0</td>\n",
       "      <td>75.0</td>\n",
       "      <td>100.0</td>\n",
       "      <td>110.0</td>\n",
       "      <td>45.0</td>\n",
       "      <td>55.0</td>\n",
       "      <td>65.0</td>\n",
       "      <td>1.0</td>\n",
       "      <td>0.0</td>\n",
       "    </tr>\n",
       "  </tbody>\n",
       "</table>\n",
       "<p>3 rows × 95 columns</p>\n",
       "</div>"
      ],
      "text/plain": [
       "   Type 1_1  Type 1_1_Bug  Type 1_1_Dark  Type 1_1_Dragon  Type 1_1_Electric  \\\n",
       "0        14           0.0            0.0              0.0                0.0   \n",
       "1        10           0.0            0.0              0.0                0.0   \n",
       "2         3           0.0            0.0              0.0                1.0   \n",
       "\n",
       "   Type 1_1_Fairy  Type 1_1_Fighting  Type 1_1_Fire  Type 1_1_Ghost  \\\n",
       "0             0.0                0.0            0.0             0.0   \n",
       "1             0.0                0.0            0.0             0.0   \n",
       "2             0.0                0.0            0.0             0.0   \n",
       "\n",
       "   Type 1_1_Grass ...   Speed_1  Generation_1   HP_2  Attack_2  Defense_2  \\\n",
       "0             0.0 ...      85.0           4.0   80.0      80.0       90.0   \n",
       "1             0.0 ...      45.0           3.0  100.0      75.0      115.0   \n",
       "2             0.0 ...      60.0           4.0   75.0     100.0      110.0   \n",
       "\n",
       "   Sp. Atk_2  Sp. Def_2  Speed_2  Generation_2  win  \n",
       "0      110.0      130.0    110.0           3.0  0.0  \n",
       "1       90.0      115.0     85.0           2.0  0.0  \n",
       "2       45.0       55.0     65.0           1.0  0.0  \n",
       "\n",
       "[3 rows x 95 columns]"
      ]
     },
     "execution_count": 141,
     "metadata": {},
     "output_type": "execute_result"
    }
   ],
   "source": [
    "result_3[0:3]"
   ]
  },
  {
   "cell_type": "code",
   "execution_count": 112,
   "metadata": {
    "ExecuteTime": {
     "end_time": "2018-09-20T20:03:06.181263Z",
     "start_time": "2018-09-20T20:02:24.209710Z"
    },
    "collapsed": false
   },
   "outputs": [
    {
     "name": "stdout",
     "output_type": "stream",
     "text": [
      "The ratio of outliers is 0.009075\n"
     ]
    }
   ],
   "source": [
    "outlier_detector = data_clean.OutlierDetector(result_3, target_column, id_columns)\n",
    "outlier_index = outlier_detector.isolation_forest()"
   ]
  },
  {
   "cell_type": "code",
   "execution_count": 146,
   "metadata": {
    "ExecuteTime": {
     "end_time": "2018-09-20T20:14:35.479201Z",
     "start_time": "2018-09-20T20:14:20.931531Z"
    },
    "collapsed": false
   },
   "outputs": [
    {
     "name": "stdout",
     "output_type": "stream",
     "text": [
      "HP_1\n",
      "('HP_1', ': Statistics=0.923, p=0.000') Sample does not look Gaussian (reject H0) \n",
      "There is no outlier.\n",
      "Attack_1\n",
      "('Attack_1', ': Statistics=0.978, p=0.000') Sample does not look Gaussian (reject H0) \n",
      "There is no outlier.\n",
      "Defense_1\n",
      "('Defense_1', ': Statistics=0.939, p=0.000') Sample does not look Gaussian (reject H0) \n",
      "There is no outlier.\n",
      "Sp. Atk_1\n",
      "('Sp. Atk_1', ': Statistics=0.960, p=0.000') Sample does not look Gaussian (reject H0) \n",
      "There is no outlier.\n",
      "Sp. Def_1\n",
      "('Sp. Def_1', ': Statistics=0.965, p=0.000') Sample does not look Gaussian (reject H0) \n",
      "There is no outlier.\n",
      "Speed_1\n",
      "('Speed_1', ': Statistics=0.986, p=0.000') Sample does not look Gaussian (reject H0) \n",
      "There is no outlier.\n",
      "Generation_1\n",
      "('Generation_1', ': Statistics=0.906, p=0.000') Sample does not look Gaussian (reject H0) \n",
      "There is no outlier.\n",
      "HP_2\n",
      "('HP_2', ': Statistics=0.922, p=0.000') Sample does not look Gaussian (reject H0) \n",
      "There is no outlier.\n",
      "Attack_2\n",
      "('Attack_2', ': Statistics=0.978, p=0.000') Sample does not look Gaussian (reject H0) \n",
      "There is no outlier.\n",
      "Defense_2\n",
      "('Defense_2', ': Statistics=0.930, p=0.000') Sample does not look Gaussian (reject H0) \n",
      "There is no outlier.\n",
      "Sp. Atk_2\n",
      "('Sp. Atk_2', ': Statistics=0.954, p=0.000') Sample does not look Gaussian (reject H0) \n",
      "There is no outlier.\n",
      "Sp. Def_2\n",
      "('Sp. Def_2', ': Statistics=0.958, p=0.000') Sample does not look Gaussian (reject H0) \n",
      "There is no outlier.\n",
      "Speed_2\n",
      "('Speed_2', ': Statistics=0.981, p=0.000') Sample does not look Gaussian (reject H0) \n",
      "There is no outlier.\n",
      "Generation_2\n",
      "('Generation_2', ': Statistics=0.907, p=0.000') Sample does not look Gaussian (reject H0) \n",
      "There is no outlier.\n"
     ]
    }
   ],
   "source": [
    "reload(data_clean)\n",
    "reload(feature_engineering)\n",
    "import util\n",
    "reload(util)\n",
    "num_fe = feature_engineering.NumericFeatureEngineer(num_columns)\n",
    "result_4 = num_fe.fit_transform(result_3)"
   ]
  },
  {
   "cell_type": "code",
   "execution_count": 147,
   "metadata": {
    "ExecuteTime": {
     "end_time": "2018-09-20T20:14:35.538171Z",
     "start_time": "2018-09-20T20:14:35.527378Z"
    },
    "collapsed": false
   },
   "outputs": [
    {
     "data": {
      "text/plain": [
       "(21267, 109)"
      ]
     },
     "execution_count": 147,
     "metadata": {},
     "output_type": "execute_result"
    }
   ],
   "source": [
    "result_4.shape"
   ]
  },
  {
   "cell_type": "code",
   "execution_count": 125,
   "metadata": {
    "ExecuteTime": {
     "end_time": "2018-09-20T20:08:08.097993Z",
     "start_time": "2018-09-20T20:08:07.963496Z"
    },
    "collapsed": false
   },
   "outputs": [
    {
     "data": {
      "text/html": [
       "<div>\n",
       "<table border=\"1\" class=\"dataframe\">\n",
       "  <thead>\n",
       "    <tr style=\"text-align: right;\">\n",
       "      <th></th>\n",
       "      <th>Type 1_1</th>\n",
       "      <th>Type 1_1_Bug</th>\n",
       "      <th>Type 1_1_Dark</th>\n",
       "      <th>Type 1_1_Dragon</th>\n",
       "      <th>Type 1_1_Electric</th>\n",
       "      <th>Type 1_1_Fairy</th>\n",
       "      <th>Type 1_1_Fighting</th>\n",
       "      <th>Type 1_1_Fire</th>\n",
       "      <th>Type 1_1_Ghost</th>\n",
       "      <th>Type 1_1_Grass</th>\n",
       "      <th>...</th>\n",
       "      <th>Speed_1_flag_flag</th>\n",
       "      <th>Generation_1_flag_flag</th>\n",
       "      <th>HP_2_flag_flag</th>\n",
       "      <th>Attack_2_flag_flag</th>\n",
       "      <th>Defense_2_flag_flag</th>\n",
       "      <th>Sp. Atk_2_flag_flag</th>\n",
       "      <th>Sp. Def_2_flag_flag</th>\n",
       "      <th>Speed_2_flag_flag</th>\n",
       "      <th>Generation_2_flag_flag</th>\n",
       "      <th>win_flag_flag</th>\n",
       "    </tr>\n",
       "  </thead>\n",
       "  <tbody>\n",
       "    <tr>\n",
       "      <th>0</th>\n",
       "      <td>14.0</td>\n",
       "      <td>0.0</td>\n",
       "      <td>0.0</td>\n",
       "      <td>0.0</td>\n",
       "      <td>0.0</td>\n",
       "      <td>0.0</td>\n",
       "      <td>0.0</td>\n",
       "      <td>0.0</td>\n",
       "      <td>0.0</td>\n",
       "      <td>0.0</td>\n",
       "      <td>...</td>\n",
       "      <td>0.0</td>\n",
       "      <td>0.0</td>\n",
       "      <td>0.0</td>\n",
       "      <td>0.0</td>\n",
       "      <td>0.0</td>\n",
       "      <td>0.0</td>\n",
       "      <td>0.0</td>\n",
       "      <td>0.0</td>\n",
       "      <td>0.0</td>\n",
       "      <td>0.0</td>\n",
       "    </tr>\n",
       "    <tr>\n",
       "      <th>1</th>\n",
       "      <td>10.0</td>\n",
       "      <td>0.0</td>\n",
       "      <td>0.0</td>\n",
       "      <td>0.0</td>\n",
       "      <td>0.0</td>\n",
       "      <td>0.0</td>\n",
       "      <td>0.0</td>\n",
       "      <td>0.0</td>\n",
       "      <td>0.0</td>\n",
       "      <td>0.0</td>\n",
       "      <td>...</td>\n",
       "      <td>0.0</td>\n",
       "      <td>0.0</td>\n",
       "      <td>0.0</td>\n",
       "      <td>0.0</td>\n",
       "      <td>0.0</td>\n",
       "      <td>0.0</td>\n",
       "      <td>0.0</td>\n",
       "      <td>0.0</td>\n",
       "      <td>0.0</td>\n",
       "      <td>0.0</td>\n",
       "    </tr>\n",
       "    <tr>\n",
       "      <th>2</th>\n",
       "      <td>3.0</td>\n",
       "      <td>0.0</td>\n",
       "      <td>0.0</td>\n",
       "      <td>0.0</td>\n",
       "      <td>1.0</td>\n",
       "      <td>0.0</td>\n",
       "      <td>0.0</td>\n",
       "      <td>0.0</td>\n",
       "      <td>0.0</td>\n",
       "      <td>0.0</td>\n",
       "      <td>...</td>\n",
       "      <td>0.0</td>\n",
       "      <td>0.0</td>\n",
       "      <td>0.0</td>\n",
       "      <td>0.0</td>\n",
       "      <td>0.0</td>\n",
       "      <td>0.0</td>\n",
       "      <td>0.0</td>\n",
       "      <td>0.0</td>\n",
       "      <td>0.0</td>\n",
       "      <td>0.0</td>\n",
       "    </tr>\n",
       "  </tbody>\n",
       "</table>\n",
       "<p>3 rows × 285 columns</p>\n",
       "</div>"
      ],
      "text/plain": [
       "   Type 1_1  Type 1_1_Bug  Type 1_1_Dark  Type 1_1_Dragon  Type 1_1_Electric  \\\n",
       "0      14.0           0.0            0.0              0.0                0.0   \n",
       "1      10.0           0.0            0.0              0.0                0.0   \n",
       "2       3.0           0.0            0.0              0.0                1.0   \n",
       "\n",
       "   Type 1_1_Fairy  Type 1_1_Fighting  Type 1_1_Fire  Type 1_1_Ghost  \\\n",
       "0             0.0                0.0            0.0             0.0   \n",
       "1             0.0                0.0            0.0             0.0   \n",
       "2             0.0                0.0            0.0             0.0   \n",
       "\n",
       "   Type 1_1_Grass      ...        Speed_1_flag_flag  Generation_1_flag_flag  \\\n",
       "0             0.0      ...                      0.0                     0.0   \n",
       "1             0.0      ...                      0.0                     0.0   \n",
       "2             0.0      ...                      0.0                     0.0   \n",
       "\n",
       "   HP_2_flag_flag  Attack_2_flag_flag  Defense_2_flag_flag  \\\n",
       "0             0.0                 0.0                  0.0   \n",
       "1             0.0                 0.0                  0.0   \n",
       "2             0.0                 0.0                  0.0   \n",
       "\n",
       "   Sp. Atk_2_flag_flag  Sp. Def_2_flag_flag  Speed_2_flag_flag  \\\n",
       "0                  0.0                  0.0                0.0   \n",
       "1                  0.0                  0.0                0.0   \n",
       "2                  0.0                  0.0                0.0   \n",
       "\n",
       "   Generation_2_flag_flag  win_flag_flag  \n",
       "0                     0.0            0.0  \n",
       "1                     0.0            0.0  \n",
       "2                     0.0            0.0  \n",
       "\n",
       "[3 rows x 285 columns]"
      ]
     },
     "execution_count": 125,
     "metadata": {},
     "output_type": "execute_result"
    }
   ],
   "source": [
    "result_4[0:3]"
   ]
  },
  {
   "cell_type": "code",
   "execution_count": 167,
   "metadata": {
    "ExecuteTime": {
     "end_time": "2018-09-20T20:18:42.996329Z",
     "start_time": "2018-09-20T20:18:30.303314Z"
    },
    "collapsed": false
   },
   "outputs": [],
   "source": [
    "reload(data_clean)\n",
    "reload(feature_engineering)\n",
    "result_5 = data_clean.sample_data(result_3, target_column, id_columns, method='over-sampling')"
   ]
  },
  {
   "cell_type": "code",
   "execution_count": 168,
   "metadata": {
    "ExecuteTime": {
     "end_time": "2018-09-20T20:18:45.389373Z",
     "start_time": "2018-09-20T20:18:45.301300Z"
    },
    "collapsed": false
   },
   "outputs": [
    {
     "data": {
      "text/html": [
       "<div>\n",
       "<table border=\"1\" class=\"dataframe\">\n",
       "  <thead>\n",
       "    <tr style=\"text-align: right;\">\n",
       "      <th></th>\n",
       "      <th>Type 1_1</th>\n",
       "      <th>Type 1_1_Bug</th>\n",
       "      <th>Type 1_1_Dark</th>\n",
       "      <th>Type 1_1_Dragon</th>\n",
       "      <th>Type 1_1_Electric</th>\n",
       "      <th>Type 1_1_Fairy</th>\n",
       "      <th>Type 1_1_Fighting</th>\n",
       "      <th>Type 1_1_Fire</th>\n",
       "      <th>Type 1_1_Ghost</th>\n",
       "      <th>Type 1_1_Grass</th>\n",
       "      <th>...</th>\n",
       "      <th>Speed_1</th>\n",
       "      <th>Generation_1</th>\n",
       "      <th>HP_2</th>\n",
       "      <th>Attack_2</th>\n",
       "      <th>Defense_2</th>\n",
       "      <th>Sp. Atk_2</th>\n",
       "      <th>Sp. Def_2</th>\n",
       "      <th>Speed_2</th>\n",
       "      <th>Generation_2</th>\n",
       "      <th>win</th>\n",
       "    </tr>\n",
       "  </thead>\n",
       "  <tbody>\n",
       "    <tr>\n",
       "      <th>0</th>\n",
       "      <td>14.0</td>\n",
       "      <td>0.0</td>\n",
       "      <td>0.0</td>\n",
       "      <td>0.0</td>\n",
       "      <td>0.0</td>\n",
       "      <td>0.0</td>\n",
       "      <td>0.0</td>\n",
       "      <td>0.0</td>\n",
       "      <td>0.0</td>\n",
       "      <td>0.0</td>\n",
       "      <td>...</td>\n",
       "      <td>85.0</td>\n",
       "      <td>4.0</td>\n",
       "      <td>80.0</td>\n",
       "      <td>80.0</td>\n",
       "      <td>90.0</td>\n",
       "      <td>110.0</td>\n",
       "      <td>130.0</td>\n",
       "      <td>110.0</td>\n",
       "      <td>3.0</td>\n",
       "      <td>0.0</td>\n",
       "    </tr>\n",
       "    <tr>\n",
       "      <th>1</th>\n",
       "      <td>10.0</td>\n",
       "      <td>0.0</td>\n",
       "      <td>0.0</td>\n",
       "      <td>0.0</td>\n",
       "      <td>0.0</td>\n",
       "      <td>0.0</td>\n",
       "      <td>0.0</td>\n",
       "      <td>0.0</td>\n",
       "      <td>0.0</td>\n",
       "      <td>0.0</td>\n",
       "      <td>...</td>\n",
       "      <td>45.0</td>\n",
       "      <td>3.0</td>\n",
       "      <td>100.0</td>\n",
       "      <td>75.0</td>\n",
       "      <td>115.0</td>\n",
       "      <td>90.0</td>\n",
       "      <td>115.0</td>\n",
       "      <td>85.0</td>\n",
       "      <td>2.0</td>\n",
       "      <td>0.0</td>\n",
       "    </tr>\n",
       "    <tr>\n",
       "      <th>2</th>\n",
       "      <td>3.0</td>\n",
       "      <td>0.0</td>\n",
       "      <td>0.0</td>\n",
       "      <td>0.0</td>\n",
       "      <td>1.0</td>\n",
       "      <td>0.0</td>\n",
       "      <td>0.0</td>\n",
       "      <td>0.0</td>\n",
       "      <td>0.0</td>\n",
       "      <td>0.0</td>\n",
       "      <td>...</td>\n",
       "      <td>60.0</td>\n",
       "      <td>4.0</td>\n",
       "      <td>75.0</td>\n",
       "      <td>100.0</td>\n",
       "      <td>110.0</td>\n",
       "      <td>45.0</td>\n",
       "      <td>55.0</td>\n",
       "      <td>65.0</td>\n",
       "      <td>1.0</td>\n",
       "      <td>0.0</td>\n",
       "    </tr>\n",
       "  </tbody>\n",
       "</table>\n",
       "<p>3 rows × 95 columns</p>\n",
       "</div>"
      ],
      "text/plain": [
       "   Type 1_1  Type 1_1_Bug  Type 1_1_Dark  Type 1_1_Dragon  Type 1_1_Electric  \\\n",
       "0      14.0           0.0            0.0              0.0                0.0   \n",
       "1      10.0           0.0            0.0              0.0                0.0   \n",
       "2       3.0           0.0            0.0              0.0                1.0   \n",
       "\n",
       "   Type 1_1_Fairy  Type 1_1_Fighting  Type 1_1_Fire  Type 1_1_Ghost  \\\n",
       "0             0.0                0.0            0.0             0.0   \n",
       "1             0.0                0.0            0.0             0.0   \n",
       "2             0.0                0.0            0.0             0.0   \n",
       "\n",
       "   Type 1_1_Grass ...   Speed_1  Generation_1   HP_2  Attack_2  Defense_2  \\\n",
       "0             0.0 ...      85.0           4.0   80.0      80.0       90.0   \n",
       "1             0.0 ...      45.0           3.0  100.0      75.0      115.0   \n",
       "2             0.0 ...      60.0           4.0   75.0     100.0      110.0   \n",
       "\n",
       "   Sp. Atk_2  Sp. Def_2  Speed_2  Generation_2  win  \n",
       "0      110.0      130.0    110.0           3.0  0.0  \n",
       "1       90.0      115.0     85.0           2.0  0.0  \n",
       "2       45.0       55.0     65.0           1.0  0.0  \n",
       "\n",
       "[3 rows x 95 columns]"
      ]
     },
     "execution_count": 168,
     "metadata": {},
     "output_type": "execute_result"
    }
   ],
   "source": [
    "result_5[0:3]"
   ]
  },
  {
   "cell_type": "code",
   "execution_count": 153,
   "metadata": {
    "ExecuteTime": {
     "end_time": "2018-09-20T20:16:00.708236Z",
     "start_time": "2018-09-20T20:16:00.701890Z"
    },
    "collapsed": true
   },
   "outputs": [],
   "source": [
    "target_converter = feature_engineering.TargetConverter(target_column)\n",
    "result_6 = target_converter.fit_transform(result_5)"
   ]
  },
  {
   "cell_type": "code",
   "execution_count": 154,
   "metadata": {
    "ExecuteTime": {
     "end_time": "2018-09-20T20:16:05.040893Z",
     "start_time": "2018-09-20T20:16:04.981135Z"
    },
    "collapsed": false
   },
   "outputs": [
    {
     "data": {
      "text/html": [
       "<div>\n",
       "<table border=\"1\" class=\"dataframe\">\n",
       "  <thead>\n",
       "    <tr style=\"text-align: right;\">\n",
       "      <th></th>\n",
       "      <th>Type 1_1</th>\n",
       "      <th>Type 1_1_Bug</th>\n",
       "      <th>Type 1_1_Dark</th>\n",
       "      <th>Type 1_1_Dragon</th>\n",
       "      <th>Type 1_1_Electric</th>\n",
       "      <th>Type 1_1_Fairy</th>\n",
       "      <th>Type 1_1_Fighting</th>\n",
       "      <th>Type 1_1_Fire</th>\n",
       "      <th>Type 1_1_Ghost</th>\n",
       "      <th>Type 1_1_Grass</th>\n",
       "      <th>...</th>\n",
       "      <th>Speed_1_flag</th>\n",
       "      <th>Generation_1_flag</th>\n",
       "      <th>HP_2_flag</th>\n",
       "      <th>Attack_2_flag</th>\n",
       "      <th>Defense_2_flag</th>\n",
       "      <th>Sp. Atk_2_flag</th>\n",
       "      <th>Sp. Def_2_flag</th>\n",
       "      <th>Speed_2_flag</th>\n",
       "      <th>Generation_2_flag</th>\n",
       "      <th>win</th>\n",
       "    </tr>\n",
       "  </thead>\n",
       "  <tbody>\n",
       "    <tr>\n",
       "      <th>0</th>\n",
       "      <td>14.0</td>\n",
       "      <td>0.0</td>\n",
       "      <td>0.0</td>\n",
       "      <td>0.0</td>\n",
       "      <td>0.0</td>\n",
       "      <td>0.0</td>\n",
       "      <td>0.0</td>\n",
       "      <td>0.0</td>\n",
       "      <td>0.0</td>\n",
       "      <td>0.0</td>\n",
       "      <td>...</td>\n",
       "      <td>0.0</td>\n",
       "      <td>0.0</td>\n",
       "      <td>0.0</td>\n",
       "      <td>0.0</td>\n",
       "      <td>0.0</td>\n",
       "      <td>0.0</td>\n",
       "      <td>0.0</td>\n",
       "      <td>0.0</td>\n",
       "      <td>0.0</td>\n",
       "      <td>0.0</td>\n",
       "    </tr>\n",
       "    <tr>\n",
       "      <th>1</th>\n",
       "      <td>10.0</td>\n",
       "      <td>0.0</td>\n",
       "      <td>0.0</td>\n",
       "      <td>0.0</td>\n",
       "      <td>0.0</td>\n",
       "      <td>0.0</td>\n",
       "      <td>0.0</td>\n",
       "      <td>0.0</td>\n",
       "      <td>0.0</td>\n",
       "      <td>0.0</td>\n",
       "      <td>...</td>\n",
       "      <td>0.0</td>\n",
       "      <td>0.0</td>\n",
       "      <td>0.0</td>\n",
       "      <td>0.0</td>\n",
       "      <td>0.0</td>\n",
       "      <td>0.0</td>\n",
       "      <td>0.0</td>\n",
       "      <td>0.0</td>\n",
       "      <td>0.0</td>\n",
       "      <td>0.0</td>\n",
       "    </tr>\n",
       "    <tr>\n",
       "      <th>2</th>\n",
       "      <td>3.0</td>\n",
       "      <td>0.0</td>\n",
       "      <td>0.0</td>\n",
       "      <td>0.0</td>\n",
       "      <td>1.0</td>\n",
       "      <td>0.0</td>\n",
       "      <td>0.0</td>\n",
       "      <td>0.0</td>\n",
       "      <td>0.0</td>\n",
       "      <td>0.0</td>\n",
       "      <td>...</td>\n",
       "      <td>0.0</td>\n",
       "      <td>0.0</td>\n",
       "      <td>0.0</td>\n",
       "      <td>0.0</td>\n",
       "      <td>0.0</td>\n",
       "      <td>0.0</td>\n",
       "      <td>0.0</td>\n",
       "      <td>0.0</td>\n",
       "      <td>0.0</td>\n",
       "      <td>0.0</td>\n",
       "    </tr>\n",
       "  </tbody>\n",
       "</table>\n",
       "<p>3 rows × 109 columns</p>\n",
       "</div>"
      ],
      "text/plain": [
       "   Type 1_1  Type 1_1_Bug  Type 1_1_Dark  Type 1_1_Dragon  Type 1_1_Electric  \\\n",
       "0      14.0           0.0            0.0              0.0                0.0   \n",
       "1      10.0           0.0            0.0              0.0                0.0   \n",
       "2       3.0           0.0            0.0              0.0                1.0   \n",
       "\n",
       "   Type 1_1_Fairy  Type 1_1_Fighting  Type 1_1_Fire  Type 1_1_Ghost  \\\n",
       "0             0.0                0.0            0.0             0.0   \n",
       "1             0.0                0.0            0.0             0.0   \n",
       "2             0.0                0.0            0.0             0.0   \n",
       "\n",
       "   Type 1_1_Grass ...   Speed_1_flag  Generation_1_flag  HP_2_flag  \\\n",
       "0             0.0 ...            0.0                0.0        0.0   \n",
       "1             0.0 ...            0.0                0.0        0.0   \n",
       "2             0.0 ...            0.0                0.0        0.0   \n",
       "\n",
       "   Attack_2_flag  Defense_2_flag  Sp. Atk_2_flag  Sp. Def_2_flag  \\\n",
       "0            0.0             0.0             0.0             0.0   \n",
       "1            0.0             0.0             0.0             0.0   \n",
       "2            0.0             0.0             0.0             0.0   \n",
       "\n",
       "   Speed_2_flag  Generation_2_flag  win  \n",
       "0           0.0                0.0  0.0  \n",
       "1           0.0                0.0  0.0  \n",
       "2           0.0                0.0  0.0  \n",
       "\n",
       "[3 rows x 109 columns]"
      ]
     },
     "execution_count": 154,
     "metadata": {},
     "output_type": "execute_result"
    }
   ],
   "source": [
    "result_6[0:3]"
   ]
  },
  {
   "cell_type": "code",
   "execution_count": 71,
   "metadata": {
    "ExecuteTime": {
     "end_time": "2018-09-20T19:42:38.827376Z",
     "start_time": "2018-09-20T19:42:38.796963Z"
    },
    "collapsed": false
   },
   "outputs": [
    {
     "data": {
      "text/plain": [
       "<module 'feature_filtering' from 'feature_filtering.py'>"
      ]
     },
     "execution_count": 71,
     "metadata": {},
     "output_type": "execute_result"
    }
   ],
   "source": [
    "reload(feature_filtering)"
   ]
  },
  {
   "cell_type": "code",
   "execution_count": 155,
   "metadata": {
    "ExecuteTime": {
     "end_time": "2018-09-20T20:16:10.688135Z",
     "start_time": "2018-09-20T20:16:10.631905Z"
    },
    "collapsed": false
   },
   "outputs": [],
   "source": [
    "feature_filter = feature_filtering.FeatureFilter(target_column)\n",
    "result_7 = feature_filter.fit_transform(result_6)"
   ]
  },
  {
   "cell_type": "code",
   "execution_count": 156,
   "metadata": {
    "ExecuteTime": {
     "end_time": "2018-09-20T20:16:14.819970Z",
     "start_time": "2018-09-20T20:16:14.763304Z"
    },
    "collapsed": false
   },
   "outputs": [
    {
     "data": {
      "text/html": [
       "<div>\n",
       "<table border=\"1\" class=\"dataframe\">\n",
       "  <thead>\n",
       "    <tr style=\"text-align: right;\">\n",
       "      <th></th>\n",
       "      <th>Attack_1</th>\n",
       "      <th>Attack_2</th>\n",
       "      <th>Defense_1</th>\n",
       "      <th>Defense_2</th>\n",
       "      <th>Generation_1</th>\n",
       "      <th>Generation_2</th>\n",
       "      <th>HP_1</th>\n",
       "      <th>HP_2</th>\n",
       "      <th>Legendary_1</th>\n",
       "      <th>Legendary_1_False</th>\n",
       "      <th>...</th>\n",
       "      <th>Type 2_2_Ground</th>\n",
       "      <th>Type 2_2_Ice</th>\n",
       "      <th>Type 2_2_Others</th>\n",
       "      <th>Type 2_2_Poison</th>\n",
       "      <th>Type 2_2_Psychic</th>\n",
       "      <th>Type 2_2_Rock</th>\n",
       "      <th>Type 2_2_Steel</th>\n",
       "      <th>Type 2_2_Water</th>\n",
       "      <th>Type 2_2_missing</th>\n",
       "      <th>win</th>\n",
       "    </tr>\n",
       "  </thead>\n",
       "  <tbody>\n",
       "    <tr>\n",
       "      <th>0</th>\n",
       "      <td>-0.227</td>\n",
       "      <td>0.159</td>\n",
       "      <td>1.390</td>\n",
       "      <td>0.623</td>\n",
       "      <td>0.465</td>\n",
       "      <td>-0.115</td>\n",
       "      <td>1.865</td>\n",
       "      <td>0.544</td>\n",
       "      <td>0.0</td>\n",
       "      <td>1.0</td>\n",
       "      <td>...</td>\n",
       "      <td>0.0</td>\n",
       "      <td>0.0</td>\n",
       "      <td>0.0</td>\n",
       "      <td>0.0</td>\n",
       "      <td>1.0</td>\n",
       "      <td>0.0</td>\n",
       "      <td>0.0</td>\n",
       "      <td>0.0</td>\n",
       "      <td>0.0</td>\n",
       "      <td>0.0</td>\n",
       "    </tr>\n",
       "    <tr>\n",
       "      <th>1</th>\n",
       "      <td>-0.558</td>\n",
       "      <td>0.006</td>\n",
       "      <td>-0.017</td>\n",
       "      <td>1.259</td>\n",
       "      <td>-0.109</td>\n",
       "      <td>-0.751</td>\n",
       "      <td>0.890</td>\n",
       "      <td>1.237</td>\n",
       "      <td>0.0</td>\n",
       "      <td>1.0</td>\n",
       "      <td>...</td>\n",
       "      <td>0.0</td>\n",
       "      <td>0.0</td>\n",
       "      <td>0.0</td>\n",
       "      <td>0.0</td>\n",
       "      <td>0.0</td>\n",
       "      <td>0.0</td>\n",
       "      <td>0.0</td>\n",
       "      <td>0.0</td>\n",
       "      <td>1.0</td>\n",
       "      <td>0.0</td>\n",
       "    </tr>\n",
       "    <tr>\n",
       "      <th>2</th>\n",
       "      <td>0.233</td>\n",
       "      <td>0.733</td>\n",
       "      <td>-0.817</td>\n",
       "      <td>1.140</td>\n",
       "      <td>0.465</td>\n",
       "      <td>-1.499</td>\n",
       "      <td>-0.303</td>\n",
       "      <td>0.356</td>\n",
       "      <td>0.0</td>\n",
       "      <td>1.0</td>\n",
       "      <td>...</td>\n",
       "      <td>0.0</td>\n",
       "      <td>0.0</td>\n",
       "      <td>0.0</td>\n",
       "      <td>0.0</td>\n",
       "      <td>0.0</td>\n",
       "      <td>0.0</td>\n",
       "      <td>0.0</td>\n",
       "      <td>0.0</td>\n",
       "      <td>1.0</td>\n",
       "      <td>0.0</td>\n",
       "    </tr>\n",
       "  </tbody>\n",
       "</table>\n",
       "<p>3 rows × 95 columns</p>\n",
       "</div>"
      ],
      "text/plain": [
       "   Attack_1  Attack_2  Defense_1  Defense_2  Generation_1  Generation_2  \\\n",
       "0    -0.227     0.159      1.390      0.623         0.465        -0.115   \n",
       "1    -0.558     0.006     -0.017      1.259        -0.109        -0.751   \n",
       "2     0.233     0.733     -0.817      1.140         0.465        -1.499   \n",
       "\n",
       "    HP_1   HP_2  Legendary_1  Legendary_1_False ...   Type 2_2_Ground  \\\n",
       "0  1.865  0.544          0.0                1.0 ...               0.0   \n",
       "1  0.890  1.237          0.0                1.0 ...               0.0   \n",
       "2 -0.303  0.356          0.0                1.0 ...               0.0   \n",
       "\n",
       "   Type 2_2_Ice  Type 2_2_Others  Type 2_2_Poison  Type 2_2_Psychic  \\\n",
       "0           0.0              0.0              0.0               1.0   \n",
       "1           0.0              0.0              0.0               0.0   \n",
       "2           0.0              0.0              0.0               0.0   \n",
       "\n",
       "   Type 2_2_Rock  Type 2_2_Steel  Type 2_2_Water  Type 2_2_missing  win  \n",
       "0            0.0             0.0             0.0               0.0  0.0  \n",
       "1            0.0             0.0             0.0               1.0  0.0  \n",
       "2            0.0             0.0             0.0               1.0  0.0  \n",
       "\n",
       "[3 rows x 95 columns]"
      ]
     },
     "execution_count": 156,
     "metadata": {},
     "output_type": "execute_result"
    }
   ],
   "source": [
    "result_7[0:3]"
   ]
  },
  {
   "cell_type": "code",
   "execution_count": 171,
   "metadata": {
    "ExecuteTime": {
     "end_time": "2018-09-20T20:20:01.237968Z",
     "start_time": "2018-09-20T20:20:00.128799Z"
    },
    "collapsed": false
   },
   "outputs": [],
   "source": [
    "reload(feature_filtering)\n",
    "feature_embedded = feature_filtering.FeatureEmbedded(target_column)\n",
    "result_8 = feature_embedded.fit_transform(result_5)"
   ]
  },
  {
   "cell_type": "code",
   "execution_count": 172,
   "metadata": {
    "ExecuteTime": {
     "end_time": "2018-09-20T20:20:03.571417Z",
     "start_time": "2018-09-20T20:20:03.497460Z"
    },
    "collapsed": false
   },
   "outputs": [
    {
     "data": {
      "text/html": [
       "<div>\n",
       "<table border=\"1\" class=\"dataframe\">\n",
       "  <thead>\n",
       "    <tr style=\"text-align: right;\">\n",
       "      <th></th>\n",
       "      <th>Attack_1</th>\n",
       "      <th>Attack_2</th>\n",
       "      <th>Defense_1</th>\n",
       "      <th>Defense_2</th>\n",
       "      <th>Generation_1</th>\n",
       "      <th>Generation_2</th>\n",
       "      <th>HP_1</th>\n",
       "      <th>HP_2</th>\n",
       "      <th>Legendary_1</th>\n",
       "      <th>Legendary_1_True</th>\n",
       "      <th>...</th>\n",
       "      <th>Type 2_1_Flying</th>\n",
       "      <th>Type 2_1_Ghost</th>\n",
       "      <th>Type 2_1_Ground</th>\n",
       "      <th>Type 2_1_missing</th>\n",
       "      <th>Type 2_2</th>\n",
       "      <th>Type 2_2_Flying</th>\n",
       "      <th>Type 2_2_Ghost</th>\n",
       "      <th>Type 2_2_Ground</th>\n",
       "      <th>Type 2_2_missing</th>\n",
       "      <th>win</th>\n",
       "    </tr>\n",
       "  </thead>\n",
       "  <tbody>\n",
       "    <tr>\n",
       "      <th>0</th>\n",
       "      <td>70.0</td>\n",
       "      <td>80.0</td>\n",
       "      <td>120.0</td>\n",
       "      <td>90.0</td>\n",
       "      <td>4.0</td>\n",
       "      <td>3.0</td>\n",
       "      <td>120.0</td>\n",
       "      <td>80.0</td>\n",
       "      <td>0.0</td>\n",
       "      <td>0.0</td>\n",
       "      <td>...</td>\n",
       "      <td>0.0</td>\n",
       "      <td>0.0</td>\n",
       "      <td>0.0</td>\n",
       "      <td>1.0</td>\n",
       "      <td>12.0</td>\n",
       "      <td>0.0</td>\n",
       "      <td>0.0</td>\n",
       "      <td>0.0</td>\n",
       "      <td>0.0</td>\n",
       "      <td>0.0</td>\n",
       "    </tr>\n",
       "    <tr>\n",
       "      <th>1</th>\n",
       "      <td>60.0</td>\n",
       "      <td>75.0</td>\n",
       "      <td>70.0</td>\n",
       "      <td>115.0</td>\n",
       "      <td>3.0</td>\n",
       "      <td>2.0</td>\n",
       "      <td>90.0</td>\n",
       "      <td>100.0</td>\n",
       "      <td>0.0</td>\n",
       "      <td>0.0</td>\n",
       "      <td>...</td>\n",
       "      <td>0.0</td>\n",
       "      <td>0.0</td>\n",
       "      <td>0.0</td>\n",
       "      <td>0.0</td>\n",
       "      <td>16.0</td>\n",
       "      <td>0.0</td>\n",
       "      <td>0.0</td>\n",
       "      <td>0.0</td>\n",
       "      <td>1.0</td>\n",
       "      <td>0.0</td>\n",
       "    </tr>\n",
       "    <tr>\n",
       "      <th>2</th>\n",
       "      <td>85.0</td>\n",
       "      <td>100.0</td>\n",
       "      <td>49.0</td>\n",
       "      <td>110.0</td>\n",
       "      <td>4.0</td>\n",
       "      <td>1.0</td>\n",
       "      <td>60.0</td>\n",
       "      <td>75.0</td>\n",
       "      <td>0.0</td>\n",
       "      <td>0.0</td>\n",
       "      <td>...</td>\n",
       "      <td>0.0</td>\n",
       "      <td>0.0</td>\n",
       "      <td>0.0</td>\n",
       "      <td>1.0</td>\n",
       "      <td>16.0</td>\n",
       "      <td>0.0</td>\n",
       "      <td>0.0</td>\n",
       "      <td>0.0</td>\n",
       "      <td>1.0</td>\n",
       "      <td>0.0</td>\n",
       "    </tr>\n",
       "  </tbody>\n",
       "</table>\n",
       "<p>3 rows × 41 columns</p>\n",
       "</div>"
      ],
      "text/plain": [
       "   Attack_1  Attack_2  Defense_1  Defense_2  Generation_1  Generation_2  \\\n",
       "0      70.0      80.0      120.0       90.0           4.0           3.0   \n",
       "1      60.0      75.0       70.0      115.0           3.0           2.0   \n",
       "2      85.0     100.0       49.0      110.0           4.0           1.0   \n",
       "\n",
       "    HP_1   HP_2  Legendary_1  Legendary_1_True ...   Type 2_1_Flying  \\\n",
       "0  120.0   80.0          0.0               0.0 ...               0.0   \n",
       "1   90.0  100.0          0.0               0.0 ...               0.0   \n",
       "2   60.0   75.0          0.0               0.0 ...               0.0   \n",
       "\n",
       "   Type 2_1_Ghost  Type 2_1_Ground  Type 2_1_missing  Type 2_2  \\\n",
       "0             0.0              0.0               1.0      12.0   \n",
       "1             0.0              0.0               0.0      16.0   \n",
       "2             0.0              0.0               1.0      16.0   \n",
       "\n",
       "   Type 2_2_Flying  Type 2_2_Ghost  Type 2_2_Ground  Type 2_2_missing  win  \n",
       "0              0.0             0.0              0.0               0.0  0.0  \n",
       "1              0.0             0.0              0.0               1.0  0.0  \n",
       "2              0.0             0.0              0.0               1.0  0.0  \n",
       "\n",
       "[3 rows x 41 columns]"
      ]
     },
     "execution_count": 172,
     "metadata": {},
     "output_type": "execute_result"
    }
   ],
   "source": [
    "result_8[0:3]"
   ]
  },
  {
   "cell_type": "code",
   "execution_count": 163,
   "metadata": {
    "ExecuteTime": {
     "end_time": "2018-09-20T20:17:10.089509Z",
     "start_time": "2018-09-20T20:17:09.897790Z"
    },
    "collapsed": false
   },
   "outputs": [],
   "source": [
    "reload(feature_filtering)\n",
    "feature_decomposition = feature_filtering.FeatureDecomposition(target_column)\n",
    "result_9 = feature_decomposition.fit_transform(result_8)"
   ]
  },
  {
   "cell_type": "code",
   "execution_count": 164,
   "metadata": {
    "ExecuteTime": {
     "end_time": "2018-09-20T20:17:11.372048Z",
     "start_time": "2018-09-20T20:17:11.301095Z"
    },
    "collapsed": false
   },
   "outputs": [
    {
     "data": {
      "text/html": [
       "<div>\n",
       "<table border=\"1\" class=\"dataframe\">\n",
       "  <thead>\n",
       "    <tr style=\"text-align: right;\">\n",
       "      <th></th>\n",
       "      <th>pca_0</th>\n",
       "      <th>pca_1</th>\n",
       "      <th>pca_2</th>\n",
       "      <th>pca_3</th>\n",
       "      <th>pca_4</th>\n",
       "      <th>pca_5</th>\n",
       "      <th>pca_6</th>\n",
       "      <th>pca_7</th>\n",
       "      <th>pca_8</th>\n",
       "      <th>pca_9</th>\n",
       "      <th>...</th>\n",
       "      <th>pca_28</th>\n",
       "      <th>pca_29</th>\n",
       "      <th>pca_30</th>\n",
       "      <th>pca_31</th>\n",
       "      <th>pca_32</th>\n",
       "      <th>pca_33</th>\n",
       "      <th>pca_34</th>\n",
       "      <th>pca_35</th>\n",
       "      <th>pca_36</th>\n",
       "      <th>win</th>\n",
       "    </tr>\n",
       "  </thead>\n",
       "  <tbody>\n",
       "    <tr>\n",
       "      <th>0</th>\n",
       "      <td>-9.480829</td>\n",
       "      <td>0.408118</td>\n",
       "      <td>-1.786421</td>\n",
       "      <td>-1.902832</td>\n",
       "      <td>-2.729728</td>\n",
       "      <td>-2.242667</td>\n",
       "      <td>-0.913232</td>\n",
       "      <td>-0.534315</td>\n",
       "      <td>-0.041503</td>\n",
       "      <td>0.226336</td>\n",
       "      <td>...</td>\n",
       "      <td>-0.000464</td>\n",
       "      <td>0.408986</td>\n",
       "      <td>0.144877</td>\n",
       "      <td>0.116797</td>\n",
       "      <td>-0.529704</td>\n",
       "      <td>-0.039068</td>\n",
       "      <td>-0.011255</td>\n",
       "      <td>0.358365</td>\n",
       "      <td>-0.056351</td>\n",
       "      <td>0.0</td>\n",
       "    </tr>\n",
       "    <tr>\n",
       "      <th>1</th>\n",
       "      <td>4.639886</td>\n",
       "      <td>-5.685930</td>\n",
       "      <td>-0.260352</td>\n",
       "      <td>-6.487136</td>\n",
       "      <td>-0.337621</td>\n",
       "      <td>-2.236622</td>\n",
       "      <td>-0.377820</td>\n",
       "      <td>-0.303051</td>\n",
       "      <td>0.007611</td>\n",
       "      <td>0.743577</td>\n",
       "      <td>...</td>\n",
       "      <td>0.186139</td>\n",
       "      <td>-0.025950</td>\n",
       "      <td>-0.015258</td>\n",
       "      <td>0.108686</td>\n",
       "      <td>-0.065796</td>\n",
       "      <td>-0.087170</td>\n",
       "      <td>-0.099771</td>\n",
       "      <td>-0.028602</td>\n",
       "      <td>0.023689</td>\n",
       "      <td>0.0</td>\n",
       "    </tr>\n",
       "    <tr>\n",
       "      <th>2</th>\n",
       "      <td>2.414124</td>\n",
       "      <td>4.765439</td>\n",
       "      <td>-0.902438</td>\n",
       "      <td>-7.284129</td>\n",
       "      <td>0.442914</td>\n",
       "      <td>-0.544740</td>\n",
       "      <td>-0.171051</td>\n",
       "      <td>0.132065</td>\n",
       "      <td>-1.247249</td>\n",
       "      <td>1.254966</td>\n",
       "      <td>...</td>\n",
       "      <td>-0.158132</td>\n",
       "      <td>0.642693</td>\n",
       "      <td>-0.128571</td>\n",
       "      <td>-0.067796</td>\n",
       "      <td>0.314700</td>\n",
       "      <td>-0.033077</td>\n",
       "      <td>-0.145177</td>\n",
       "      <td>0.153596</td>\n",
       "      <td>0.072988</td>\n",
       "      <td>0.0</td>\n",
       "    </tr>\n",
       "  </tbody>\n",
       "</table>\n",
       "<p>3 rows × 38 columns</p>\n",
       "</div>"
      ],
      "text/plain": [
       "      pca_0     pca_1     pca_2     pca_3     pca_4     pca_5     pca_6  \\\n",
       "0 -9.480829  0.408118 -1.786421 -1.902832 -2.729728 -2.242667 -0.913232   \n",
       "1  4.639886 -5.685930 -0.260352 -6.487136 -0.337621 -2.236622 -0.377820   \n",
       "2  2.414124  4.765439 -0.902438 -7.284129  0.442914 -0.544740 -0.171051   \n",
       "\n",
       "      pca_7     pca_8     pca_9 ...     pca_28    pca_29    pca_30    pca_31  \\\n",
       "0 -0.534315 -0.041503  0.226336 ...  -0.000464  0.408986  0.144877  0.116797   \n",
       "1 -0.303051  0.007611  0.743577 ...   0.186139 -0.025950 -0.015258  0.108686   \n",
       "2  0.132065 -1.247249  1.254966 ...  -0.158132  0.642693 -0.128571 -0.067796   \n",
       "\n",
       "     pca_32    pca_33    pca_34    pca_35    pca_36  win  \n",
       "0 -0.529704 -0.039068 -0.011255  0.358365 -0.056351  0.0  \n",
       "1 -0.065796 -0.087170 -0.099771 -0.028602  0.023689  0.0  \n",
       "2  0.314700 -0.033077 -0.145177  0.153596  0.072988  0.0  \n",
       "\n",
       "[3 rows x 38 columns]"
      ]
     },
     "execution_count": 164,
     "metadata": {},
     "output_type": "execute_result"
    }
   ],
   "source": [
    "result_9[0:3]"
   ]
  },
  {
   "cell_type": "markdown",
   "metadata": {},
   "source": [
    "### Build regression."
   ]
  },
  {
   "cell_type": "code",
   "execution_count": 173,
   "metadata": {
    "ExecuteTime": {
     "end_time": "2018-09-20T20:20:13.381974Z",
     "start_time": "2018-09-20T20:20:12.373875Z"
    },
    "collapsed": false
   },
   "outputs": [],
   "source": [
    "# Build Logistic Regression model to test improvement of accuracy after applying feature transformation.\n",
    "# The task is to predict whether it's legendary or not.\n",
    "logreg = linear_model.LogisticRegression(C=1e5)\n",
    "X = result_8[result_8.columns.difference([target_column])]  \n",
    "Y = result_8.win\n",
    "log_re = logreg.fit(X, Y)"
   ]
  },
  {
   "cell_type": "code",
   "execution_count": 109,
   "metadata": {
    "ExecuteTime": {
     "end_time": "2018-09-20T20:01:15.445559Z",
     "start_time": "2018-09-20T20:01:15.417499Z"
    },
    "collapsed": false
   },
   "outputs": [
    {
     "data": {
      "text/plain": [
       "0.885127192363756"
      ]
     },
     "execution_count": 109,
     "metadata": {},
     "output_type": "execute_result"
    }
   ],
   "source": [
    "# The performance before numerical feature transformation.\n",
    "# result_3.\n",
    "logreg.score(X, Y) "
   ]
  },
  {
   "cell_type": "code",
   "execution_count": 145,
   "metadata": {
    "ExecuteTime": {
     "end_time": "2018-09-20T20:13:58.050330Z",
     "start_time": "2018-09-20T20:13:58.021760Z"
    },
    "collapsed": false
   },
   "outputs": [
    {
     "data": {
      "text/plain": [
       "0.8828701744486763"
      ]
     },
     "execution_count": 145,
     "metadata": {},
     "output_type": "execute_result"
    }
   ],
   "source": [
    "# result_4.\n",
    "logreg.score(X, Y) "
   ]
  },
  {
   "cell_type": "code",
   "execution_count": 152,
   "metadata": {
    "ExecuteTime": {
     "end_time": "2018-09-20T20:15:40.335577Z",
     "start_time": "2018-09-20T20:15:40.317197Z"
    },
    "collapsed": false
   },
   "outputs": [
    {
     "data": {
      "text/plain": [
       "0.885695652173913"
      ]
     },
     "execution_count": 152,
     "metadata": {},
     "output_type": "execute_result"
    }
   ],
   "source": [
    "# result_5.\n",
    "logreg.score(X, Y) "
   ]
  },
  {
   "cell_type": "code",
   "execution_count": 170,
   "metadata": {
    "ExecuteTime": {
     "end_time": "2018-09-20T20:19:13.185512Z",
     "start_time": "2018-09-20T20:19:13.137268Z"
    },
    "collapsed": false
   },
   "outputs": [
    {
     "data": {
      "text/plain": [
       "0.8885652173913043"
      ]
     },
     "execution_count": 170,
     "metadata": {},
     "output_type": "execute_result"
    }
   ],
   "source": [
    "# result_5X.\n",
    "logreg.score(X, Y) "
   ]
  },
  {
   "cell_type": "code",
   "execution_count": 158,
   "metadata": {
    "ExecuteTime": {
     "end_time": "2018-09-20T20:16:28.725639Z",
     "start_time": "2018-09-20T20:16:28.709347Z"
    },
    "collapsed": false
   },
   "outputs": [
    {
     "data": {
      "text/plain": [
       "0.885695652173913"
      ]
     },
     "execution_count": 158,
     "metadata": {},
     "output_type": "execute_result"
    }
   ],
   "source": [
    "# result_7.\n",
    "logreg.score(X, Y) "
   ]
  },
  {
   "cell_type": "code",
   "execution_count": 162,
   "metadata": {
    "ExecuteTime": {
     "end_time": "2018-09-20T20:16:57.054056Z",
     "start_time": "2018-09-20T20:16:57.039231Z"
    },
    "collapsed": false
   },
   "outputs": [
    {
     "data": {
      "text/plain": [
       "0.8868260869565218"
      ]
     },
     "execution_count": 162,
     "metadata": {},
     "output_type": "execute_result"
    }
   ],
   "source": [
    "# result_8.\n",
    "logreg.score(X, Y) "
   ]
  },
  {
   "cell_type": "code",
   "execution_count": 174,
   "metadata": {
    "ExecuteTime": {
     "end_time": "2018-09-20T20:20:24.870395Z",
     "start_time": "2018-09-20T20:20:24.852278Z"
    },
    "collapsed": false
   },
   "outputs": [
    {
     "data": {
      "text/plain": [
       "0.8878260869565218"
      ]
     },
     "execution_count": 174,
     "metadata": {},
     "output_type": "execute_result"
    }
   ],
   "source": [
    "# result_8X.\n",
    "logreg.score(X, Y) "
   ]
  },
  {
   "cell_type": "code",
   "execution_count": 166,
   "metadata": {
    "ExecuteTime": {
     "end_time": "2018-09-20T20:17:32.930542Z",
     "start_time": "2018-09-20T20:17:32.917532Z"
    },
    "collapsed": false
   },
   "outputs": [
    {
     "data": {
      "text/plain": [
       "0.8842173913043478"
      ]
     },
     "execution_count": 166,
     "metadata": {},
     "output_type": "execute_result"
    }
   ],
   "source": [
    "# result_9.\n",
    "logreg.score(X, Y) "
   ]
  },
  {
   "cell_type": "code",
   "execution_count": 178,
   "metadata": {
    "ExecuteTime": {
     "end_time": "2018-09-20T21:06:01.368679Z",
     "start_time": "2018-09-20T21:06:01.340145Z"
    },
    "collapsed": false
   },
   "outputs": [
    {
     "data": {
      "text/plain": [
       "<module 'step_by_step' from 'step_by_step.py'>"
      ]
     },
     "execution_count": 178,
     "metadata": {},
     "output_type": "execute_result"
    }
   ],
   "source": [
    "from step_by_step import FeatureEngineering\n",
    "reload(step_by_step)"
   ]
  },
  {
   "cell_type": "code",
   "execution_count": 179,
   "metadata": {
    "ExecuteTime": {
     "end_time": "2018-09-20T21:07:10.665607Z",
     "start_time": "2018-09-20T21:06:10.459039Z"
    },
    "collapsed": false
   },
   "outputs": [
    {
     "name": "stdout",
     "output_type": "stream",
     "text": [
      "The ratio of outliers is 0.008252\n",
      "The row index of outliers is as follows: [1, 25, 51, 260, 599, 677, 731, 776, 788, 862, 913, 1003, 1123, 1203, 1468, 1550, 1783, 1794, 1817, 1865, 1992, 2038, 2398, 2593, 2916, 2970, 2973, 3351, 3546, 3570, 3765, 3895, 3961, 4133, 4289, 4345, 4547, 4578, 4634, 4724, 4788, 4801, 4829, 4846, 4854, 5013, 5231, 5243, 5491, 5529, 5566, 5751, 5757, 6139, 6216, 6293, 6388, 6434, 6445, 6546, 6665, 6819, 7039, 7110, 7198, 7457, 7573, 7601, 7667, 7723, 7744, 7955, 8114, 8223, 8308, 8329, 8455, 8616, 8669, 8792, 8795, 9211, 9250, 9385, 9592, 9594, 9752, 9817, 9832, 9852, 10158, 10303, 10326, 10342, 10350, 10386, 10532, 10555, 10868, 11125, 11203, 11324, 11401, 11419, 11423, 11682, 11712, 11759, 11765, 12228, 12288, 12474, 12479, 12697, 12951, 13012, 13088, 13165, 13211, 13286, 13506, 13524, 13577, 13709, 13943, 14349, 14591, 14599, 14690, 14722, 14792, 14894, 14945, 14995, 15398, 15401, 15626, 15782, 15982, 16033, 16098, 16295, 16628, 16904, 17007, 17164, 17178, 17231, 17313, 17404, 17798, 17819, 17837, 18289, 18311, 18395, 18483, 18588, 18768, 18950, 19189, 19215, 19330, 19567, 19706, 20148, 20433, 20573, 20801, 20893, 21076, 21092, 21106, 21151, 21172, 21208, 21282, 21518, 21606, 21833, 21838, 21890, 22017, 22269, 22324, 22479, 22760, 22852, 22871, 22972, 22977, 23092, 23244, 23362, 23424, 23590, 23721, 23973, 24003, 24055, 24291, 24330]\n",
      "The ratio of outliers is 0.008135\n",
      "The list of outlier index is: [17, 78, 172, 191, 237, 247, 319, 456, 487, 756, 820, 882, 939, 942, 1093, 1401, 1550, 1811, 1860, 1940, 2177, 2297, 2496, 2499, 2678, 2777, 2812, 3026, 3377, 3708, 3823, 3849, 3917, 4038, 4220, 4590, 4618, 4694, 4780, 4815, 4934, 5041, 5102, 5112, 5132, 5204, 5445, 5458, 5556, 5643, 5740, 6032, 6075, 6406, 6555, 6599, 6724, 6910, 6940, 7103, 7492, 7643, 7680, 7792, 7851, 7902, 8291, 8360, 8555, 8591, 8613, 8917, 9037, 9088, 9214, 9236, 9257, 9401, 9612, 9680, 9767, 9878, 10087, 10099, 10110, 10188, 10212, 10297, 10349, 10444, 10625, 10713, 10741, 10744, 10746, 10851, 11244, 11432, 11778, 11806, 11869, 12015, 12037, 12351, 12633, 12704, 12855, 12974, 13084, 13305, 13322, 13355, 13391, 13450, 13486, 13667, 13673, 13700, 13730, 14110, 14176, 14637, 14720, 15043, 15134, 15137, 15295, 15297, 15426, 15440, 15472, 15540, 15619, 15725, 16346, 16354, 16423, 16749, 16900, 16958, 17084, 17145, 17160, 17402, 17731, 17807, 17824, 18110, 18191, 18442, 18481, 18776, 18953, 18974, 19192, 19523, 19615, 19712, 19896, 20220, 20228, 20250, 20312, 20448, 20501, 20553, 20600, 20613, 20756, 20764, 20771, 20904, 21158]\n",
      "HP_1\n",
      "('HP_1', ': Statistics=0.923, p=0.000') Sample does not look Gaussian (reject H0) \n",
      "There is no outlier.\n",
      "Attack_1\n",
      "('Attack_1', ': Statistics=0.978, p=0.000') Sample does not look Gaussian (reject H0) \n",
      "There is no outlier.\n",
      "Defense_1\n",
      "('Defense_1', ': Statistics=0.939, p=0.000') Sample does not look Gaussian (reject H0) \n",
      "There is no outlier.\n",
      "Sp. Atk_1\n",
      "('Sp. Atk_1', ': Statistics=0.960, p=0.000') Sample does not look Gaussian (reject H0) \n",
      "There is no outlier.\n",
      "Sp. Def_1\n",
      "('Sp. Def_1', ': Statistics=0.965, p=0.000') Sample does not look Gaussian (reject H0) \n",
      "There is no outlier.\n",
      "Speed_1\n",
      "('Speed_1', ': Statistics=0.986, p=0.000') Sample does not look Gaussian (reject H0) \n",
      "There is no outlier.\n",
      "Generation_1\n",
      "('Generation_1', ': Statistics=0.906, p=0.000') Sample does not look Gaussian (reject H0) \n",
      "There is no outlier.\n",
      "HP_2\n",
      "('HP_2', ': Statistics=0.922, p=0.000') Sample does not look Gaussian (reject H0) \n",
      "There is no outlier.\n",
      "Attack_2\n",
      "('Attack_2', ': Statistics=0.978, p=0.000') Sample does not look Gaussian (reject H0) \n",
      "There is no outlier.\n",
      "Defense_2\n",
      "('Defense_2', ': Statistics=0.930, p=0.000') Sample does not look Gaussian (reject H0) \n",
      "There is no outlier.\n",
      "Sp. Atk_2\n",
      "('Sp. Atk_2', ': Statistics=0.954, p=0.000') Sample does not look Gaussian (reject H0) \n",
      "There is no outlier.\n",
      "Sp. Def_2\n",
      "('Sp. Def_2', ': Statistics=0.958, p=0.000') Sample does not look Gaussian (reject H0) \n",
      "There is no outlier.\n",
      "Speed_2\n",
      "('Speed_2', ': Statistics=0.981, p=0.000') Sample does not look Gaussian (reject H0) \n",
      "There is no outlier.\n",
      "Generation_2\n",
      "('Generation_2', ': Statistics=0.907, p=0.000') Sample does not look Gaussian (reject H0) \n",
      "There is no outlier.\n"
     ]
    }
   ],
   "source": [
    "feature_engineering = step_by_step.FeatureEngineering(id_columns, target_column)\n",
    "total_result = feature_engineering.fit_transform(results)"
   ]
  },
  {
   "cell_type": "code",
   "execution_count": 180,
   "metadata": {
    "ExecuteTime": {
     "end_time": "2018-09-20T21:08:18.129465Z",
     "start_time": "2018-09-20T21:08:18.054695Z"
    },
    "collapsed": false
   },
   "outputs": [
    {
     "data": {
      "text/html": [
       "<div>\n",
       "<table border=\"1\" class=\"dataframe\">\n",
       "  <thead>\n",
       "    <tr style=\"text-align: right;\">\n",
       "      <th></th>\n",
       "      <th>pca_0</th>\n",
       "      <th>pca_1</th>\n",
       "      <th>pca_2</th>\n",
       "      <th>pca_3</th>\n",
       "      <th>pca_4</th>\n",
       "      <th>pca_5</th>\n",
       "      <th>pca_6</th>\n",
       "      <th>pca_7</th>\n",
       "      <th>pca_8</th>\n",
       "      <th>pca_9</th>\n",
       "      <th>...</th>\n",
       "      <th>pca_28</th>\n",
       "      <th>pca_29</th>\n",
       "      <th>pca_30</th>\n",
       "      <th>pca_31</th>\n",
       "      <th>pca_32</th>\n",
       "      <th>pca_33</th>\n",
       "      <th>pca_34</th>\n",
       "      <th>pca_35</th>\n",
       "      <th>pca_36</th>\n",
       "      <th>win</th>\n",
       "    </tr>\n",
       "  </thead>\n",
       "  <tbody>\n",
       "    <tr>\n",
       "      <th>0</th>\n",
       "      <td>-9.480829</td>\n",
       "      <td>0.408118</td>\n",
       "      <td>-1.786421</td>\n",
       "      <td>-1.902832</td>\n",
       "      <td>-2.729728</td>\n",
       "      <td>-2.242667</td>\n",
       "      <td>-0.913232</td>\n",
       "      <td>-0.534315</td>\n",
       "      <td>-0.041503</td>\n",
       "      <td>0.226336</td>\n",
       "      <td>...</td>\n",
       "      <td>-0.000464</td>\n",
       "      <td>0.408986</td>\n",
       "      <td>0.144877</td>\n",
       "      <td>0.116797</td>\n",
       "      <td>-0.529704</td>\n",
       "      <td>-0.039068</td>\n",
       "      <td>-0.011255</td>\n",
       "      <td>0.358365</td>\n",
       "      <td>-0.056351</td>\n",
       "      <td>0.0</td>\n",
       "    </tr>\n",
       "    <tr>\n",
       "      <th>1</th>\n",
       "      <td>4.639886</td>\n",
       "      <td>-5.685930</td>\n",
       "      <td>-0.260352</td>\n",
       "      <td>-6.487136</td>\n",
       "      <td>-0.337621</td>\n",
       "      <td>-2.236622</td>\n",
       "      <td>-0.377820</td>\n",
       "      <td>-0.303051</td>\n",
       "      <td>0.007611</td>\n",
       "      <td>0.743577</td>\n",
       "      <td>...</td>\n",
       "      <td>0.186139</td>\n",
       "      <td>-0.025950</td>\n",
       "      <td>-0.015258</td>\n",
       "      <td>0.108686</td>\n",
       "      <td>-0.065796</td>\n",
       "      <td>-0.087170</td>\n",
       "      <td>-0.099771</td>\n",
       "      <td>-0.028602</td>\n",
       "      <td>0.023689</td>\n",
       "      <td>0.0</td>\n",
       "    </tr>\n",
       "    <tr>\n",
       "      <th>2</th>\n",
       "      <td>2.414124</td>\n",
       "      <td>4.765439</td>\n",
       "      <td>-0.902438</td>\n",
       "      <td>-7.284129</td>\n",
       "      <td>0.442914</td>\n",
       "      <td>-0.544740</td>\n",
       "      <td>-0.171051</td>\n",
       "      <td>0.132065</td>\n",
       "      <td>-1.247249</td>\n",
       "      <td>1.254966</td>\n",
       "      <td>...</td>\n",
       "      <td>-0.158132</td>\n",
       "      <td>0.642693</td>\n",
       "      <td>-0.128571</td>\n",
       "      <td>-0.067796</td>\n",
       "      <td>0.314700</td>\n",
       "      <td>-0.033077</td>\n",
       "      <td>-0.145177</td>\n",
       "      <td>0.153596</td>\n",
       "      <td>0.072988</td>\n",
       "      <td>0.0</td>\n",
       "    </tr>\n",
       "  </tbody>\n",
       "</table>\n",
       "<p>3 rows × 38 columns</p>\n",
       "</div>"
      ],
      "text/plain": [
       "      pca_0     pca_1     pca_2     pca_3     pca_4     pca_5     pca_6  \\\n",
       "0 -9.480829  0.408118 -1.786421 -1.902832 -2.729728 -2.242667 -0.913232   \n",
       "1  4.639886 -5.685930 -0.260352 -6.487136 -0.337621 -2.236622 -0.377820   \n",
       "2  2.414124  4.765439 -0.902438 -7.284129  0.442914 -0.544740 -0.171051   \n",
       "\n",
       "      pca_7     pca_8     pca_9 ...     pca_28    pca_29    pca_30    pca_31  \\\n",
       "0 -0.534315 -0.041503  0.226336 ...  -0.000464  0.408986  0.144877  0.116797   \n",
       "1 -0.303051  0.007611  0.743577 ...   0.186139 -0.025950 -0.015258  0.108686   \n",
       "2  0.132065 -1.247249  1.254966 ...  -0.158132  0.642693 -0.128571 -0.067796   \n",
       "\n",
       "     pca_32    pca_33    pca_34    pca_35    pca_36  win  \n",
       "0 -0.529704 -0.039068 -0.011255  0.358365 -0.056351  0.0  \n",
       "1 -0.065796 -0.087170 -0.099771 -0.028602  0.023689  0.0  \n",
       "2  0.314700 -0.033077 -0.145177  0.153596  0.072988  0.0  \n",
       "\n",
       "[3 rows x 38 columns]"
      ]
     },
     "execution_count": 180,
     "metadata": {},
     "output_type": "execute_result"
    }
   ],
   "source": [
    "total_result[0:3]"
   ]
  },
  {
   "cell_type": "code",
   "execution_count": null,
   "metadata": {
    "collapsed": true
   },
   "outputs": [],
   "source": []
  }
 ],
 "metadata": {
  "kernelspec": {
   "display_name": "Python 2",
   "language": "python",
   "name": "python2"
  },
  "language_info": {
   "codemirror_mode": {
    "name": "ipython",
    "version": 2
   },
   "file_extension": ".py",
   "mimetype": "text/x-python",
   "name": "python",
   "nbconvert_exporter": "python",
   "pygments_lexer": "ipython2",
   "version": "2.7.10"
  }
 },
 "nbformat": 4,
 "nbformat_minor": 2
}
